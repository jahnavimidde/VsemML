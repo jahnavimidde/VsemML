{
  "nbformat": 4,
  "nbformat_minor": 0,
  "metadata": {
    "colab": {
      "provenance": [],
      "authorship_tag": "ABX9TyO0RqqkNzzkBWk4pb4LIYaT",
      "include_colab_link": true
    },
    "kernelspec": {
      "name": "python3",
      "display_name": "Python 3"
    },
    "language_info": {
      "name": "python"
    }
  },
  "cells": [
    {
      "cell_type": "markdown",
      "metadata": {
        "id": "view-in-github",
        "colab_type": "text"
      },
      "source": [
        "<a href=\"https://colab.research.google.com/github/jahnavimidde/VsemML/blob/main/week8.ipynb\" target=\"_parent\"><img src=\"https://colab.research.google.com/assets/colab-badge.svg\" alt=\"Open In Colab\"/></a>"
      ]
    },
    {
      "cell_type": "code",
      "execution_count": 1,
      "metadata": {
        "colab": {
          "base_uri": "https://localhost:8080/",
          "height": 226
        },
        "id": "r16-mHVUDrc1",
        "outputId": "7b363230-b96f-493e-c45c-67e834194d91"
      },
      "outputs": [
        {
          "output_type": "execute_result",
          "data": {
            "text/plain": [
              "   Age  Gender  Total_Bilirubin  Direct_Bilirubin  Alkaline_Phosphotase  \\\n",
              "0   65  Female              0.7               0.1                   187   \n",
              "1   62    Male             10.9               5.5                   699   \n",
              "2   62    Male              7.3               4.1                   490   \n",
              "3   58    Male              1.0               0.4                   182   \n",
              "4   72    Male              3.9               2.0                   195   \n",
              "\n",
              "   Alamine_Aminotransferase  Aspartate_Aminotransferase  Total_Protiens  \\\n",
              "0                        16                          18             6.8   \n",
              "1                        64                         100             7.5   \n",
              "2                        60                          68             7.0   \n",
              "3                        14                          20             6.8   \n",
              "4                        27                          59             7.3   \n",
              "\n",
              "   Albumin  Albumin_and_Globulin_Ratio  Dataset  \n",
              "0      3.3                        0.90        1  \n",
              "1      3.2                        0.74        1  \n",
              "2      3.3                        0.89        1  \n",
              "3      3.4                        1.00        1  \n",
              "4      2.4                        0.40        1  "
            ],
            "text/html": [
              "\n",
              "  <div id=\"df-02b459d4-ca91-4680-8d8f-e82625ec33ff\" class=\"colab-df-container\">\n",
              "    <div>\n",
              "<style scoped>\n",
              "    .dataframe tbody tr th:only-of-type {\n",
              "        vertical-align: middle;\n",
              "    }\n",
              "\n",
              "    .dataframe tbody tr th {\n",
              "        vertical-align: top;\n",
              "    }\n",
              "\n",
              "    .dataframe thead th {\n",
              "        text-align: right;\n",
              "    }\n",
              "</style>\n",
              "<table border=\"1\" class=\"dataframe\">\n",
              "  <thead>\n",
              "    <tr style=\"text-align: right;\">\n",
              "      <th></th>\n",
              "      <th>Age</th>\n",
              "      <th>Gender</th>\n",
              "      <th>Total_Bilirubin</th>\n",
              "      <th>Direct_Bilirubin</th>\n",
              "      <th>Alkaline_Phosphotase</th>\n",
              "      <th>Alamine_Aminotransferase</th>\n",
              "      <th>Aspartate_Aminotransferase</th>\n",
              "      <th>Total_Protiens</th>\n",
              "      <th>Albumin</th>\n",
              "      <th>Albumin_and_Globulin_Ratio</th>\n",
              "      <th>Dataset</th>\n",
              "    </tr>\n",
              "  </thead>\n",
              "  <tbody>\n",
              "    <tr>\n",
              "      <th>0</th>\n",
              "      <td>65</td>\n",
              "      <td>Female</td>\n",
              "      <td>0.7</td>\n",
              "      <td>0.1</td>\n",
              "      <td>187</td>\n",
              "      <td>16</td>\n",
              "      <td>18</td>\n",
              "      <td>6.8</td>\n",
              "      <td>3.3</td>\n",
              "      <td>0.90</td>\n",
              "      <td>1</td>\n",
              "    </tr>\n",
              "    <tr>\n",
              "      <th>1</th>\n",
              "      <td>62</td>\n",
              "      <td>Male</td>\n",
              "      <td>10.9</td>\n",
              "      <td>5.5</td>\n",
              "      <td>699</td>\n",
              "      <td>64</td>\n",
              "      <td>100</td>\n",
              "      <td>7.5</td>\n",
              "      <td>3.2</td>\n",
              "      <td>0.74</td>\n",
              "      <td>1</td>\n",
              "    </tr>\n",
              "    <tr>\n",
              "      <th>2</th>\n",
              "      <td>62</td>\n",
              "      <td>Male</td>\n",
              "      <td>7.3</td>\n",
              "      <td>4.1</td>\n",
              "      <td>490</td>\n",
              "      <td>60</td>\n",
              "      <td>68</td>\n",
              "      <td>7.0</td>\n",
              "      <td>3.3</td>\n",
              "      <td>0.89</td>\n",
              "      <td>1</td>\n",
              "    </tr>\n",
              "    <tr>\n",
              "      <th>3</th>\n",
              "      <td>58</td>\n",
              "      <td>Male</td>\n",
              "      <td>1.0</td>\n",
              "      <td>0.4</td>\n",
              "      <td>182</td>\n",
              "      <td>14</td>\n",
              "      <td>20</td>\n",
              "      <td>6.8</td>\n",
              "      <td>3.4</td>\n",
              "      <td>1.00</td>\n",
              "      <td>1</td>\n",
              "    </tr>\n",
              "    <tr>\n",
              "      <th>4</th>\n",
              "      <td>72</td>\n",
              "      <td>Male</td>\n",
              "      <td>3.9</td>\n",
              "      <td>2.0</td>\n",
              "      <td>195</td>\n",
              "      <td>27</td>\n",
              "      <td>59</td>\n",
              "      <td>7.3</td>\n",
              "      <td>2.4</td>\n",
              "      <td>0.40</td>\n",
              "      <td>1</td>\n",
              "    </tr>\n",
              "  </tbody>\n",
              "</table>\n",
              "</div>\n",
              "    <div class=\"colab-df-buttons\">\n",
              "\n",
              "  <div class=\"colab-df-container\">\n",
              "    <button class=\"colab-df-convert\" onclick=\"convertToInteractive('df-02b459d4-ca91-4680-8d8f-e82625ec33ff')\"\n",
              "            title=\"Convert this dataframe to an interactive table.\"\n",
              "            style=\"display:none;\">\n",
              "\n",
              "  <svg xmlns=\"http://www.w3.org/2000/svg\" height=\"24px\" viewBox=\"0 -960 960 960\">\n",
              "    <path d=\"M120-120v-720h720v720H120Zm60-500h600v-160H180v160Zm220 220h160v-160H400v160Zm0 220h160v-160H400v160ZM180-400h160v-160H180v160Zm440 0h160v-160H620v160ZM180-180h160v-160H180v160Zm440 0h160v-160H620v160Z\"/>\n",
              "  </svg>\n",
              "    </button>\n",
              "\n",
              "  <style>\n",
              "    .colab-df-container {\n",
              "      display:flex;\n",
              "      gap: 12px;\n",
              "    }\n",
              "\n",
              "    .colab-df-convert {\n",
              "      background-color: #E8F0FE;\n",
              "      border: none;\n",
              "      border-radius: 50%;\n",
              "      cursor: pointer;\n",
              "      display: none;\n",
              "      fill: #1967D2;\n",
              "      height: 32px;\n",
              "      padding: 0 0 0 0;\n",
              "      width: 32px;\n",
              "    }\n",
              "\n",
              "    .colab-df-convert:hover {\n",
              "      background-color: #E2EBFA;\n",
              "      box-shadow: 0px 1px 2px rgba(60, 64, 67, 0.3), 0px 1px 3px 1px rgba(60, 64, 67, 0.15);\n",
              "      fill: #174EA6;\n",
              "    }\n",
              "\n",
              "    .colab-df-buttons div {\n",
              "      margin-bottom: 4px;\n",
              "    }\n",
              "\n",
              "    [theme=dark] .colab-df-convert {\n",
              "      background-color: #3B4455;\n",
              "      fill: #D2E3FC;\n",
              "    }\n",
              "\n",
              "    [theme=dark] .colab-df-convert:hover {\n",
              "      background-color: #434B5C;\n",
              "      box-shadow: 0px 1px 3px 1px rgba(0, 0, 0, 0.15);\n",
              "      filter: drop-shadow(0px 1px 2px rgba(0, 0, 0, 0.3));\n",
              "      fill: #FFFFFF;\n",
              "    }\n",
              "  </style>\n",
              "\n",
              "    <script>\n",
              "      const buttonEl =\n",
              "        document.querySelector('#df-02b459d4-ca91-4680-8d8f-e82625ec33ff button.colab-df-convert');\n",
              "      buttonEl.style.display =\n",
              "        google.colab.kernel.accessAllowed ? 'block' : 'none';\n",
              "\n",
              "      async function convertToInteractive(key) {\n",
              "        const element = document.querySelector('#df-02b459d4-ca91-4680-8d8f-e82625ec33ff');\n",
              "        const dataTable =\n",
              "          await google.colab.kernel.invokeFunction('convertToInteractive',\n",
              "                                                    [key], {});\n",
              "        if (!dataTable) return;\n",
              "\n",
              "        const docLinkHtml = 'Like what you see? Visit the ' +\n",
              "          '<a target=\"_blank\" href=https://colab.research.google.com/notebooks/data_table.ipynb>data table notebook</a>'\n",
              "          + ' to learn more about interactive tables.';\n",
              "        element.innerHTML = '';\n",
              "        dataTable['output_type'] = 'display_data';\n",
              "        await google.colab.output.renderOutput(dataTable, element);\n",
              "        const docLink = document.createElement('div');\n",
              "        docLink.innerHTML = docLinkHtml;\n",
              "        element.appendChild(docLink);\n",
              "      }\n",
              "    </script>\n",
              "  </div>\n",
              "\n",
              "\n",
              "    <div id=\"df-ceae0008-3d91-4df0-be9e-d8fce9cd2bb4\">\n",
              "      <button class=\"colab-df-quickchart\" onclick=\"quickchart('df-ceae0008-3d91-4df0-be9e-d8fce9cd2bb4')\"\n",
              "                title=\"Suggest charts\"\n",
              "                style=\"display:none;\">\n",
              "\n",
              "<svg xmlns=\"http://www.w3.org/2000/svg\" height=\"24px\"viewBox=\"0 0 24 24\"\n",
              "     width=\"24px\">\n",
              "    <g>\n",
              "        <path d=\"M19 3H5c-1.1 0-2 .9-2 2v14c0 1.1.9 2 2 2h14c1.1 0 2-.9 2-2V5c0-1.1-.9-2-2-2zM9 17H7v-7h2v7zm4 0h-2V7h2v10zm4 0h-2v-4h2v4z\"/>\n",
              "    </g>\n",
              "</svg>\n",
              "      </button>\n",
              "\n",
              "<style>\n",
              "  .colab-df-quickchart {\n",
              "      --bg-color: #E8F0FE;\n",
              "      --fill-color: #1967D2;\n",
              "      --hover-bg-color: #E2EBFA;\n",
              "      --hover-fill-color: #174EA6;\n",
              "      --disabled-fill-color: #AAA;\n",
              "      --disabled-bg-color: #DDD;\n",
              "  }\n",
              "\n",
              "  [theme=dark] .colab-df-quickchart {\n",
              "      --bg-color: #3B4455;\n",
              "      --fill-color: #D2E3FC;\n",
              "      --hover-bg-color: #434B5C;\n",
              "      --hover-fill-color: #FFFFFF;\n",
              "      --disabled-bg-color: #3B4455;\n",
              "      --disabled-fill-color: #666;\n",
              "  }\n",
              "\n",
              "  .colab-df-quickchart {\n",
              "    background-color: var(--bg-color);\n",
              "    border: none;\n",
              "    border-radius: 50%;\n",
              "    cursor: pointer;\n",
              "    display: none;\n",
              "    fill: var(--fill-color);\n",
              "    height: 32px;\n",
              "    padding: 0;\n",
              "    width: 32px;\n",
              "  }\n",
              "\n",
              "  .colab-df-quickchart:hover {\n",
              "    background-color: var(--hover-bg-color);\n",
              "    box-shadow: 0 1px 2px rgba(60, 64, 67, 0.3), 0 1px 3px 1px rgba(60, 64, 67, 0.15);\n",
              "    fill: var(--button-hover-fill-color);\n",
              "  }\n",
              "\n",
              "  .colab-df-quickchart-complete:disabled,\n",
              "  .colab-df-quickchart-complete:disabled:hover {\n",
              "    background-color: var(--disabled-bg-color);\n",
              "    fill: var(--disabled-fill-color);\n",
              "    box-shadow: none;\n",
              "  }\n",
              "\n",
              "  .colab-df-spinner {\n",
              "    border: 2px solid var(--fill-color);\n",
              "    border-color: transparent;\n",
              "    border-bottom-color: var(--fill-color);\n",
              "    animation:\n",
              "      spin 1s steps(1) infinite;\n",
              "  }\n",
              "\n",
              "  @keyframes spin {\n",
              "    0% {\n",
              "      border-color: transparent;\n",
              "      border-bottom-color: var(--fill-color);\n",
              "      border-left-color: var(--fill-color);\n",
              "    }\n",
              "    20% {\n",
              "      border-color: transparent;\n",
              "      border-left-color: var(--fill-color);\n",
              "      border-top-color: var(--fill-color);\n",
              "    }\n",
              "    30% {\n",
              "      border-color: transparent;\n",
              "      border-left-color: var(--fill-color);\n",
              "      border-top-color: var(--fill-color);\n",
              "      border-right-color: var(--fill-color);\n",
              "    }\n",
              "    40% {\n",
              "      border-color: transparent;\n",
              "      border-right-color: var(--fill-color);\n",
              "      border-top-color: var(--fill-color);\n",
              "    }\n",
              "    60% {\n",
              "      border-color: transparent;\n",
              "      border-right-color: var(--fill-color);\n",
              "    }\n",
              "    80% {\n",
              "      border-color: transparent;\n",
              "      border-right-color: var(--fill-color);\n",
              "      border-bottom-color: var(--fill-color);\n",
              "    }\n",
              "    90% {\n",
              "      border-color: transparent;\n",
              "      border-bottom-color: var(--fill-color);\n",
              "    }\n",
              "  }\n",
              "</style>\n",
              "\n",
              "      <script>\n",
              "        async function quickchart(key) {\n",
              "          const quickchartButtonEl =\n",
              "            document.querySelector('#' + key + ' button');\n",
              "          quickchartButtonEl.disabled = true;  // To prevent multiple clicks.\n",
              "          quickchartButtonEl.classList.add('colab-df-spinner');\n",
              "          try {\n",
              "            const charts = await google.colab.kernel.invokeFunction(\n",
              "                'suggestCharts', [key], {});\n",
              "          } catch (error) {\n",
              "            console.error('Error during call to suggestCharts:', error);\n",
              "          }\n",
              "          quickchartButtonEl.classList.remove('colab-df-spinner');\n",
              "          quickchartButtonEl.classList.add('colab-df-quickchart-complete');\n",
              "        }\n",
              "        (() => {\n",
              "          let quickchartButtonEl =\n",
              "            document.querySelector('#df-ceae0008-3d91-4df0-be9e-d8fce9cd2bb4 button');\n",
              "          quickchartButtonEl.style.display =\n",
              "            google.colab.kernel.accessAllowed ? 'block' : 'none';\n",
              "        })();\n",
              "      </script>\n",
              "    </div>\n",
              "\n",
              "    </div>\n",
              "  </div>\n"
            ],
            "application/vnd.google.colaboratory.intrinsic+json": {
              "type": "dataframe",
              "variable_name": "df",
              "summary": "{\n  \"name\": \"df\",\n  \"rows\": 583,\n  \"fields\": [\n    {\n      \"column\": \"Age\",\n      \"properties\": {\n        \"dtype\": \"number\",\n        \"std\": 16,\n        \"min\": 4,\n        \"max\": 90,\n        \"num_unique_values\": 72,\n        \"samples\": [\n          46,\n          23,\n          63\n        ],\n        \"semantic_type\": \"\",\n        \"description\": \"\"\n      }\n    },\n    {\n      \"column\": \"Gender\",\n      \"properties\": {\n        \"dtype\": \"category\",\n        \"num_unique_values\": 2,\n        \"samples\": [\n          \"Male\",\n          \"Female\"\n        ],\n        \"semantic_type\": \"\",\n        \"description\": \"\"\n      }\n    },\n    {\n      \"column\": \"Total_Bilirubin\",\n      \"properties\": {\n        \"dtype\": \"number\",\n        \"std\": 6.209521726180145,\n        \"min\": 0.4,\n        \"max\": 75.0,\n        \"num_unique_values\": 113,\n        \"samples\": [\n          4.9,\n          3.9\n        ],\n        \"semantic_type\": \"\",\n        \"description\": \"\"\n      }\n    },\n    {\n      \"column\": \"Direct_Bilirubin\",\n      \"properties\": {\n        \"dtype\": \"number\",\n        \"std\": 2.8084976176589636,\n        \"min\": 0.1,\n        \"max\": 19.7,\n        \"num_unique_values\": 80,\n        \"samples\": [\n          6.2,\n          0.1\n        ],\n        \"semantic_type\": \"\",\n        \"description\": \"\"\n      }\n    },\n    {\n      \"column\": \"Alkaline_Phosphotase\",\n      \"properties\": {\n        \"dtype\": \"number\",\n        \"std\": 242,\n        \"min\": 63,\n        \"max\": 2110,\n        \"num_unique_values\": 263,\n        \"samples\": [\n          386,\n          209\n        ],\n        \"semantic_type\": \"\",\n        \"description\": \"\"\n      }\n    },\n    {\n      \"column\": \"Alamine_Aminotransferase\",\n      \"properties\": {\n        \"dtype\": \"number\",\n        \"std\": 182,\n        \"min\": 10,\n        \"max\": 2000,\n        \"num_unique_values\": 152,\n        \"samples\": [\n          2000,\n          321\n        ],\n        \"semantic_type\": \"\",\n        \"description\": \"\"\n      }\n    },\n    {\n      \"column\": \"Aspartate_Aminotransferase\",\n      \"properties\": {\n        \"dtype\": \"number\",\n        \"std\": 288,\n        \"min\": 10,\n        \"max\": 4929,\n        \"num_unique_values\": 177,\n        \"samples\": [\n          66,\n          16\n        ],\n        \"semantic_type\": \"\",\n        \"description\": \"\"\n      }\n    },\n    {\n      \"column\": \"Total_Protiens\",\n      \"properties\": {\n        \"dtype\": \"number\",\n        \"std\": 1.0854514840234664,\n        \"min\": 2.7,\n        \"max\": 9.6,\n        \"num_unique_values\": 58,\n        \"samples\": [\n          6.8,\n          6.7\n        ],\n        \"semantic_type\": \"\",\n        \"description\": \"\"\n      }\n    },\n    {\n      \"column\": \"Albumin\",\n      \"properties\": {\n        \"dtype\": \"number\",\n        \"std\": 0.795518805964027,\n        \"min\": 0.9,\n        \"max\": 5.5,\n        \"num_unique_values\": 40,\n        \"samples\": [\n          2.0,\n          1.9\n        ],\n        \"semantic_type\": \"\",\n        \"description\": \"\"\n      }\n    },\n    {\n      \"column\": \"Albumin_and_Globulin_Ratio\",\n      \"properties\": {\n        \"dtype\": \"number\",\n        \"std\": 0.31959210767237095,\n        \"min\": 0.3,\n        \"max\": 2.8,\n        \"num_unique_values\": 69,\n        \"samples\": [\n          1.6,\n          0.9\n        ],\n        \"semantic_type\": \"\",\n        \"description\": \"\"\n      }\n    },\n    {\n      \"column\": \"Dataset\",\n      \"properties\": {\n        \"dtype\": \"number\",\n        \"std\": 0,\n        \"min\": 1,\n        \"max\": 2,\n        \"num_unique_values\": 2,\n        \"samples\": [\n          2,\n          1\n        ],\n        \"semantic_type\": \"\",\n        \"description\": \"\"\n      }\n    }\n  ]\n}"
            }
          },
          "metadata": {},
          "execution_count": 1
        }
      ],
      "source": [
        "import pandas as pd\n",
        "import numpy as np\n",
        "df=pd.read_csv(\"/content/indian_liver_patient.csv\")\n",
        "df.head()"
      ]
    },
    {
      "cell_type": "code",
      "source": [
        "print(df.isnull().sum())"
      ],
      "metadata": {
        "colab": {
          "base_uri": "https://localhost:8080/"
        },
        "id": "85ktD5IOF21w",
        "outputId": "e2309645-3797-4887-8f2c-0a305e8dc3ae"
      },
      "execution_count": 2,
      "outputs": [
        {
          "output_type": "stream",
          "name": "stdout",
          "text": [
            "Age                           0\n",
            "Gender                        0\n",
            "Total_Bilirubin               0\n",
            "Direct_Bilirubin              0\n",
            "Alkaline_Phosphotase          0\n",
            "Alamine_Aminotransferase      0\n",
            "Aspartate_Aminotransferase    0\n",
            "Total_Protiens                0\n",
            "Albumin                       0\n",
            "Albumin_and_Globulin_Ratio    4\n",
            "Dataset                       0\n",
            "dtype: int64\n"
          ]
        }
      ]
    },
    {
      "cell_type": "code",
      "source": [
        "df['Albumin_and_Globulin_Ratio'].fillna(df['Albumin_and_Globulin_Ratio'].mean(), inplace=True)\n"
      ],
      "metadata": {
        "colab": {
          "base_uri": "https://localhost:8080/"
        },
        "id": "YxrEvyjNVyHf",
        "outputId": "cb9c9f3c-7609-4280-daf1-993e8ed58bad"
      },
      "execution_count": 3,
      "outputs": [
        {
          "output_type": "stream",
          "name": "stderr",
          "text": [
            "/tmp/ipython-input-2008257877.py:1: FutureWarning: A value is trying to be set on a copy of a DataFrame or Series through chained assignment using an inplace method.\n",
            "The behavior will change in pandas 3.0. This inplace method will never work because the intermediate object on which we are setting values always behaves as a copy.\n",
            "\n",
            "For example, when doing 'df[col].method(value, inplace=True)', try using 'df.method({col: value}, inplace=True)' or df[col] = df[col].method(value) instead, to perform the operation inplace on the original object.\n",
            "\n",
            "\n",
            "  df['Albumin_and_Globulin_Ratio'].fillna(df['Albumin_and_Globulin_Ratio'].mean(), inplace=True)\n"
          ]
        }
      ]
    },
    {
      "cell_type": "code",
      "source": [
        "df['Gender']=df['Gender'].map({'Male':1,'Female':0})\n",
        "print(df.head())"
      ],
      "metadata": {
        "colab": {
          "base_uri": "https://localhost:8080/"
        },
        "id": "Zrg_pJfnGxcP",
        "outputId": "0e3b06f5-8427-4c65-ece4-ade048a6c574"
      },
      "execution_count": 4,
      "outputs": [
        {
          "output_type": "stream",
          "name": "stdout",
          "text": [
            "   Age  Gender  Total_Bilirubin  Direct_Bilirubin  Alkaline_Phosphotase  \\\n",
            "0   65       0              0.7               0.1                   187   \n",
            "1   62       1             10.9               5.5                   699   \n",
            "2   62       1              7.3               4.1                   490   \n",
            "3   58       1              1.0               0.4                   182   \n",
            "4   72       1              3.9               2.0                   195   \n",
            "\n",
            "   Alamine_Aminotransferase  Aspartate_Aminotransferase  Total_Protiens  \\\n",
            "0                        16                          18             6.8   \n",
            "1                        64                         100             7.5   \n",
            "2                        60                          68             7.0   \n",
            "3                        14                          20             6.8   \n",
            "4                        27                          59             7.3   \n",
            "\n",
            "   Albumin  Albumin_and_Globulin_Ratio  Dataset  \n",
            "0      3.3                        0.90        1  \n",
            "1      3.2                        0.74        1  \n",
            "2      3.3                        0.89        1  \n",
            "3      3.4                        1.00        1  \n",
            "4      2.4                        0.40        1  \n"
          ]
        }
      ]
    },
    {
      "cell_type": "code",
      "source": [
        "from  sklearn.model_selection import train_test_split\n",
        "X=df.drop('Dataset',axis=1)\n",
        "y=df['Dataset']\n",
        "X_train,X_test,y_train,y_test=train_test_split(X,y,test_size=0.2,random_state=42)\n"
      ],
      "metadata": {
        "id": "zcyCqwX7HRkn"
      },
      "execution_count": 5,
      "outputs": []
    },
    {
      "cell_type": "code",
      "source": [
        "from sklearn.tree import DecisionTreeClassifier\n",
        "d=DecisionTreeClassifier(random_state=42)\n",
        "d.fit(X_train,y_train)\n",
        "y_pred=d.predict(X_test)"
      ],
      "metadata": {
        "id": "u8oi8D1eIahA"
      },
      "execution_count": 6,
      "outputs": []
    },
    {
      "cell_type": "code",
      "source": [
        "from sklearn.metrics import accuracy_score, recall_score, precision_score, f1_score\n",
        "\n",
        "print(\"Accuracy:\", accuracy_score(y_test, y_pred))\n",
        "print(\"Recall:\", recall_score(y_test, y_pred))\n",
        "print(\"Precision:\", precision_score(y_test, y_pred))\n",
        "print(\"F1 Score:\", f1_score(y_test, y_pred))\n",
        "# Accuracy: 0.6410256410256411\n",
        "# Recall: 0.7241379310344828\n",
        "# Precision: 0.7777777777777778\n",
        "# F1 Score: 0.75\n"
      ],
      "metadata": {
        "colab": {
          "base_uri": "https://localhost:8080/"
        },
        "id": "_Cd6exNUI2vn",
        "outputId": "70da50a5-bca1-4675-9e43-30afd0abaa87"
      },
      "execution_count": 7,
      "outputs": [
        {
          "output_type": "stream",
          "name": "stdout",
          "text": [
            "Accuracy: 0.717948717948718\n",
            "Recall: 0.7586206896551724\n",
            "Precision: 0.8461538461538461\n",
            "F1 Score: 0.8\n"
          ]
        }
      ]
    },
    {
      "cell_type": "code",
      "source": [
        "from sklearn.ensemble import RandomForestClassifier\n",
        "r=RandomForestClassifier(n_estimators=20,random_state=42)\n",
        "r.fit(X_train,y_train)\n",
        "y_pred=r.predict(X_test)\n",
        "print(accuracy_score(y_test,y_pred))\n",
        "print(\"Recall:\", recall_score(y_test, y_pred))\n",
        "print(\"Precision:\", precision_score(y_test, y_pred))\n",
        "print(\"F1 Score:\", f1_score(y_test, y_pred))\n"
      ],
      "metadata": {
        "colab": {
          "base_uri": "https://localhost:8080/"
        },
        "id": "qrAL30F5J7R_",
        "outputId": "48dbe04c-3759-40cc-d5a2-bfbd6f8e9f2b"
      },
      "execution_count": 8,
      "outputs": [
        {
          "output_type": "stream",
          "name": "stdout",
          "text": [
            "0.717948717948718\n",
            "Recall: 0.8735632183908046\n",
            "Precision: 0.7755102040816326\n",
            "F1 Score: 0.8216216216216217\n"
          ]
        }
      ]
    },
    {
      "cell_type": "code",
      "source": [],
      "metadata": {
        "id": "CPsU4N0QVjsf"
      },
      "execution_count": 8,
      "outputs": []
    },
    {
      "cell_type": "markdown",
      "source": [
        "obseravtion:\n",
        "single tree may give accuracy low ..but multiple trees can give accuracy high ....Recall and f1_score increaesed highly\n",
        "n_estimators can change performance\n",
        "like too less and too high number (10,70) lead to low accuracy\n"
      ],
      "metadata": {
        "id": "BZkpKaaULfuY"
      }
    },
    {
      "cell_type": "code",
      "source": [
        "from sklearn.preprocessing import StandardScaler\n",
        "\n",
        "scaler = StandardScaler()\n",
        "X_train = scaler.fit_transform(X_train)\n",
        "X_test = scaler.transform(X_test)\n"
      ],
      "metadata": {
        "id": "eHTRkDx__8f1"
      },
      "execution_count": 13,
      "outputs": []
    },
    {
      "cell_type": "code",
      "source": [
        "from  sklearn.linear_model import LogisticRegression\n",
        "L=LogisticRegression()\n",
        "L.fit(X_train,y_train)\n",
        "y_pred=L.predict(X_test)\n",
        "print(\"Recall:\", recall_score(y_test, y_pred))\n",
        "print(\"Precision:\", precision_score(y_test, y_pred))\n",
        "print(\"F1 Score:\", f1_score(y_test, y_pred))\n"
      ],
      "metadata": {
        "colab": {
          "base_uri": "https://localhost:8080/"
        },
        "id": "weL2uBDhL3wv",
        "outputId": "511db4d3-2fc3-4c28-e4b6-c9fe424422ac"
      },
      "execution_count": 14,
      "outputs": [
        {
          "output_type": "stream",
          "name": "stdout",
          "text": [
            "Recall: 0.9195402298850575\n",
            "Precision: 0.7920792079207921\n",
            "F1 Score: 0.851063829787234\n"
          ]
        }
      ]
    },
    {
      "cell_type": "code",
      "source": [
        "from sklearn.impute import SimpleImputer\n",
        "\n",
        "# Create an imputer to fill missing values with the mean\n",
        "imputer = SimpleImputer(strategy='mean')\n",
        "\n",
        "# Fit the imputer on X_train and transform both X_train and X_test\n",
        "X_train = imputer.fit_transform(X_train)\n",
        "X_test = imputer.transform(X_test)\n"
      ],
      "metadata": {
        "id": "1db8oQbOWKiI"
      },
      "execution_count": 15,
      "outputs": []
    },
    {
      "cell_type": "code",
      "source": [
        "from sklearn.linear_model import LogisticRegression\n",
        "from sklearn.metrics import recall_score, precision_score, f1_score\n",
        "\n",
        "L = LogisticRegression()\n",
        "L.fit(X_train, y_train)\n",
        "y_pred = L.predict(X_test)\n",
        "\n",
        "print(\"Recall:\", recall_score(y_test, y_pred))\n",
        "print(\"Precision:\", precision_score(y_test, y_pred))\n",
        "print(\"F1 Score:\", f1_score(y_test, y_pred))\n"
      ],
      "metadata": {
        "colab": {
          "base_uri": "https://localhost:8080/"
        },
        "id": "aP0jDHx9Ulwf",
        "outputId": "e8455243-eeb3-4119-e530-643a819f8a7a"
      },
      "execution_count": 16,
      "outputs": [
        {
          "output_type": "stream",
          "name": "stdout",
          "text": [
            "Recall: 0.9195402298850575\n",
            "Precision: 0.7920792079207921\n",
            "F1 Score: 0.851063829787234\n"
          ]
        }
      ]
    },
    {
      "cell_type": "code",
      "source": [
        "\n",
        "\n",
        "from sklearn.ensemble import VotingClassifier\n",
        "from sklearn.metrics import accuracy_score, recall_score, precision_score, f1_score\n",
        "\n",
        "# Define base estimators\n",
        "estimators = []\n",
        "estimators.append(('DecisionTree', d))\n",
        "estimators.append(('RandomForest', r))\n",
        "estimators.append(('LogisticRegression', L))\n",
        "\n",
        "# Hard Voting Classifier\n",
        "\n",
        "hard_voting = VotingClassifier(estimators=estimators, voting='hard')\n",
        "hard_voting.fit(X_train, y_train)\n",
        "y_pred_hard = hard_voting.predict(X_test)\n",
        "\n",
        "print(\"\\nHARD VOTING RESULTS \")\n",
        "print(\"Accuracy:\", accuracy_score(y_test, y_pred_hard))\n",
        "print(\"Recall:\", recall_score(y_test, y_pred_hard))\n",
        "print(\"Precision:\", precision_score(y_test, y_pred_hard))\n",
        "print(\"F1 Score:\", f1_score(y_test, y_pred_hard))\n",
        "\n",
        "# ----------------------------\n",
        "# Soft Voting Classifier\n",
        "# ----------------------------\n",
        "soft_voting = VotingClassifier(estimators=estimators, voting='soft')\n",
        "soft_voting.fit(X_train, y_train)\n",
        "y_pred_soft = soft_voting.predict(X_test)\n",
        "\n",
        "print(\"\\n SOFT VOTING RESULTS \")\n",
        "print(\"Accuracy:\", accuracy_score(y_test, y_pred_soft))\n",
        "print(\"Recall:\", recall_score(y_test, y_pred_soft))\n",
        "print(\"Precision:\", precision_score(y_test, y_pred_soft))\n",
        "print(\"F1 Score:\", f1_score(y_test, y_pred_soft))\n"
      ],
      "metadata": {
        "colab": {
          "base_uri": "https://localhost:8080/"
        },
        "id": "dHx9Bx4a_n1H",
        "outputId": "1a9de084-d52c-4084-ea21-b20c48364f91"
      },
      "execution_count": 18,
      "outputs": [
        {
          "output_type": "stream",
          "name": "stdout",
          "text": [
            "\n",
            "HARD VOTING RESULTS \n",
            "Accuracy: 0.7350427350427351\n",
            "Recall: 0.8620689655172413\n",
            "Precision: 0.7978723404255319\n",
            "F1 Score: 0.8287292817679558\n",
            "\n",
            " SOFT VOTING RESULTS \n",
            "Accuracy: 0.7435897435897436\n",
            "Recall: 0.8045977011494253\n",
            "Precision: 0.8433734939759037\n",
            "F1 Score: 0.8235294117647058\n"
          ]
        }
      ]
    },
    {
      "cell_type": "code",
      "source": [
        "\n",
        "dt = DecisionTreeClassifier(random_state=42)\n",
        "rf = RandomForestClassifier(n_estimators=50, random_state=42)\n",
        "lr = LogisticRegression(max_iter=1000, solver='lbfgs', random_state=42)\n",
        "\n",
        "dt.fit(X_train, y_train)\n",
        "rf.fit(X_train, y_train)\n",
        "lr.fit(X_train, y_train)\n",
        "\n",
        "# Individual predictions\n",
        "pred_dt = dt.predict(X_test)\n",
        "pred_rf = rf.predict(X_test)\n",
        "pred_lr = lr.predict(X_test)\n"
      ],
      "metadata": {
        "id": "8mkSrWsFGlC3"
      },
      "execution_count": 20,
      "outputs": []
    },
    {
      "cell_type": "code",
      "source": [
        "# ======================================================\n",
        "# 2. Implementing Simple Ensemble Techniques\n",
        "# ======================================================\n",
        "\n",
        "# 1️⃣ MAX VOTING\n",
        "predictions = np.array([pred_dt, pred_rf, pred_lr])\n",
        "max_voting = np.apply_along_axis(lambda x: np.bincount(x).argmax(), axis=0, arr=predictions)\n",
        "\n",
        "print(\"MAX VOTING RESULTS\")\n",
        "print(\"Accuracy:\", accuracy_score(y_test, max_voting))\n",
        "print(\"Recall:\", recall_score(y_test, max_voting))\n",
        "print(\"Precision:\", precision_score(y_test, max_voting))\n",
        "print(\"F1 Score:\", f1_score(y_test, max_voting))\n",
        "\n",
        "# 2️⃣ AVERAGE VOTING\n",
        "prob_dt = dt.predict_proba(X_test)\n",
        "prob_rf = rf.predict_proba(X_test)\n",
        "prob_lr = lr.predict_proba(X_test)\n",
        "\n",
        "avg_prob = (prob_dt + prob_rf + prob_lr) / 3\n",
        "avg_voting = np.argmax(avg_prob, axis=1) + 1\n",
        "\n",
        "print(\"AVERAGE VOTING RESULTS \")\n",
        "print(\"Accuracy:\", accuracy_score(y_test, avg_voting))\n",
        "print(\"Recall:\", recall_score(y_test, avg_voting))\n",
        "print(\"Precision:\", precision_score(y_test, avg_voting))\n",
        "print(\"F1 Score:\", f1_score(y_test, avg_voting))\n",
        "\n",
        "# 3️⃣ WEIGHTED AVERAGE VOTING\n",
        "acc_dt = accuracy_score(y_test, pred_dt)\n",
        "acc_rf = accuracy_score(y_test, pred_rf)\n",
        "acc_lr = accuracy_score(y_test, pred_lr)\n",
        "\n",
        "weights = np.array([acc_dt, acc_rf, acc_lr])\n",
        "weighted_prob = (prob_dt * weights[0] + prob_rf * weights[1] + prob_lr * weights[2]) / weights.sum()\n",
        "weighted_voting = np.argmax(weighted_prob, axis=1) + 1\n",
        "\n",
        "print(\" WEIGHTED AVERAGE VOTING RESULTS\")\n",
        "print(\"Accuracy:\", accuracy_score(y_test, weighted_voting))\n",
        "print(\"Recall:\", recall_score(y_test, weighted_voting))\n",
        "print(\"Precision:\", precision_score(y_test, weighted_voting))\n",
        "print(\"F1 Score:\", f1_score(y_test, weighted_voting))\n"
      ],
      "metadata": {
        "colab": {
          "base_uri": "https://localhost:8080/"
        },
        "id": "R3ac8DVcANJ3",
        "outputId": "aba7ee3c-664c-422f-bb13-43159862e932"
      },
      "execution_count": 22,
      "outputs": [
        {
          "output_type": "stream",
          "name": "stdout",
          "text": [
            "MAX VOTING RESULTS\n",
            "Accuracy: 0.7521367521367521\n",
            "Recall: 0.8735632183908046\n",
            "Precision: 0.8085106382978723\n",
            "F1 Score: 0.8397790055248618\n",
            "AVERAGE VOTING RESULTS \n",
            "Accuracy: 0.7435897435897436\n",
            "Recall: 0.8045977011494253\n",
            "Precision: 0.8433734939759037\n",
            "F1 Score: 0.8235294117647058\n",
            " WEIGHTED AVERAGE VOTING RESULTS\n",
            "Accuracy: 0.7435897435897436\n",
            "Recall: 0.8045977011494253\n",
            "Precision: 0.8433734939759037\n",
            "F1 Score: 0.8235294117647058\n"
          ]
        }
      ]
    },
    {
      "cell_type": "code",
      "source": [
        "# Experiment 1: Default Random Forest\n",
        "rf1 = RandomForestClassifier(random_state=42)\n",
        "rf1.fit(X_train, y_train)\n",
        "y_pred1 = rf1.predict(X_test)\n",
        "acc1 = accuracy_score(y_test, y_pred1)\n",
        "\n",
        "# Experiment 2: Increase number of estimators\n",
        "rf2 = RandomForestClassifier(n_estimators=100, random_state=42)\n",
        "rf2.fit(X_train, y_train)\n",
        "y_pred2 = rf2.predict(X_test)\n",
        "acc2 = accuracy_score(y_test, y_pred2)\n",
        "\n",
        "# Experiment 3: Limit max depth\n",
        "rf3 = RandomForestClassifier(n_estimators=100, max_depth=3, random_state=42)\n",
        "rf3.fit(X_train, y_train)\n",
        "y_pred3 = rf3.predict(X_test)\n",
        "acc3 = accuracy_score(y_test, y_pred3)\n",
        "\n",
        "# Display results\n",
        "print(\"Random Forest Bagging Results:\")\n",
        "print(f\"Default RF Accuracy:       {acc1:.3f}\")\n",
        "print(f\"RF with 100 Estimators:    {acc2:.3f}\")\n",
        "print(f\"RF with max_depth=3:       {acc3:.3f}\")\n"
      ],
      "metadata": {
        "colab": {
          "base_uri": "https://localhost:8080/"
        },
        "id": "a4rw4VxKHtuL",
        "outputId": "1a295a1a-436f-4131-e8cb-f181f2f49931"
      },
      "execution_count": 23,
      "outputs": [
        {
          "output_type": "stream",
          "name": "stdout",
          "text": [
            "Random Forest Bagging Results:\n",
            "Default RF Accuracy:       0.726\n",
            "RF with 100 Estimators:    0.726\n",
            "RF with max_depth=3:       0.778\n"
          ]
        }
      ]
    },
    {
      "cell_type": "code",
      "source": [
        "from sklearn.ensemble import RandomForestRegressor\n",
        "from sklearn.metrics import mean_squared_error, r2_score\n",
        "\n",
        "# Initialize RandomForestRegressor with OOB\n",
        "rf_reg = RandomForestRegressor(\n",
        "    n_estimators=100,\n",
        "    max_depth=None,\n",
        "    random_state=42,\n",
        "    oob_score=True,\n",
        "    bootstrap=True\n",
        ")\n",
        "\n",
        "# Fit the model\n",
        "rf_reg.fit(X_train, y_train)\n",
        "\n",
        "# Predictions\n",
        "y_pred = rf_reg.predict(X_test)\n",
        "\n",
        "# Evaluate\n",
        "mse = mean_squared_error(y_test, y_pred)\n",
        "r2 = r2_score(y_test, y_pred)\n",
        "oob_score = rf_reg.oob_score_\n",
        "\n",
        "print(f\"MSE: {mse:.3f}\")\n",
        "print(f\"R2 Score: {r2:.3f}\")\n",
        "print(f\"OOB Score: {oob_score:.3f}\")\n"
      ],
      "metadata": {
        "colab": {
          "base_uri": "https://localhost:8080/"
        },
        "id": "sTsA_6n8IKjc",
        "outputId": "c31d77c8-ec20-42dd-f80b-7adde297a66f"
      },
      "execution_count": 30,
      "outputs": [
        {
          "output_type": "stream",
          "name": "stdout",
          "text": [
            "MSE: 0.159\n",
            "R2 Score: 0.168\n",
            "OOB Score: 0.074\n"
          ]
        }
      ]
    },
    {
      "cell_type": "code",
      "source": [
        "!pip install catboost\n"
      ],
      "metadata": {
        "colab": {
          "base_uri": "https://localhost:8080/"
        },
        "id": "89I5lXNZIZY5",
        "outputId": "c2bb2c69-93b6-4c58-94d7-73081fcb8468"
      },
      "execution_count": 27,
      "outputs": [
        {
          "output_type": "stream",
          "name": "stdout",
          "text": [
            "Collecting catboost\n",
            "  Downloading catboost-1.2.8-cp312-cp312-manylinux2014_x86_64.whl.metadata (1.2 kB)\n",
            "Requirement already satisfied: graphviz in /usr/local/lib/python3.12/dist-packages (from catboost) (0.21)\n",
            "Requirement already satisfied: matplotlib in /usr/local/lib/python3.12/dist-packages (from catboost) (3.10.0)\n",
            "Requirement already satisfied: numpy<3.0,>=1.16.0 in /usr/local/lib/python3.12/dist-packages (from catboost) (2.0.2)\n",
            "Requirement already satisfied: pandas>=0.24 in /usr/local/lib/python3.12/dist-packages (from catboost) (2.2.2)\n",
            "Requirement already satisfied: scipy in /usr/local/lib/python3.12/dist-packages (from catboost) (1.16.2)\n",
            "Requirement already satisfied: plotly in /usr/local/lib/python3.12/dist-packages (from catboost) (5.24.1)\n",
            "Requirement already satisfied: six in /usr/local/lib/python3.12/dist-packages (from catboost) (1.17.0)\n",
            "Requirement already satisfied: python-dateutil>=2.8.2 in /usr/local/lib/python3.12/dist-packages (from pandas>=0.24->catboost) (2.9.0.post0)\n",
            "Requirement already satisfied: pytz>=2020.1 in /usr/local/lib/python3.12/dist-packages (from pandas>=0.24->catboost) (2025.2)\n",
            "Requirement already satisfied: tzdata>=2022.7 in /usr/local/lib/python3.12/dist-packages (from pandas>=0.24->catboost) (2025.2)\n",
            "Requirement already satisfied: contourpy>=1.0.1 in /usr/local/lib/python3.12/dist-packages (from matplotlib->catboost) (1.3.3)\n",
            "Requirement already satisfied: cycler>=0.10 in /usr/local/lib/python3.12/dist-packages (from matplotlib->catboost) (0.12.1)\n",
            "Requirement already satisfied: fonttools>=4.22.0 in /usr/local/lib/python3.12/dist-packages (from matplotlib->catboost) (4.60.1)\n",
            "Requirement already satisfied: kiwisolver>=1.3.1 in /usr/local/lib/python3.12/dist-packages (from matplotlib->catboost) (1.4.9)\n",
            "Requirement already satisfied: packaging>=20.0 in /usr/local/lib/python3.12/dist-packages (from matplotlib->catboost) (25.0)\n",
            "Requirement already satisfied: pillow>=8 in /usr/local/lib/python3.12/dist-packages (from matplotlib->catboost) (11.3.0)\n",
            "Requirement already satisfied: pyparsing>=2.3.1 in /usr/local/lib/python3.12/dist-packages (from matplotlib->catboost) (3.2.5)\n",
            "Requirement already satisfied: tenacity>=6.2.0 in /usr/local/lib/python3.12/dist-packages (from plotly->catboost) (8.5.0)\n",
            "Downloading catboost-1.2.8-cp312-cp312-manylinux2014_x86_64.whl (99.2 MB)\n",
            "\u001b[2K   \u001b[90m━━━━━━━━━━━━━━━━━━━━━━━━━━━━━━━━━━━━━━━━\u001b[0m \u001b[32m99.2/99.2 MB\u001b[0m \u001b[31m7.6 MB/s\u001b[0m eta \u001b[36m0:00:00\u001b[0m\n",
            "\u001b[?25hInstalling collected packages: catboost\n",
            "Successfully installed catboost-1.2.8\n"
          ]
        }
      ]
    },
    {
      "cell_type": "code",
      "source": [
        "# Task 6: Boosting techniques (self-contained)\n",
        "\n",
        "# Import libraries\n",
        "from sklearn.ensemble import AdaBoostClassifier, GradientBoostingClassifier\n",
        "from sklearn.model_selection import train_test_split\n",
        "from sklearn.metrics import accuracy_score\n",
        "\n",
        "# Try to import XGBoost and CatBoost\n",
        "try:\n",
        "    from xgboost import XGBClassifier\n",
        "    xgboost_available = True\n",
        "except ImportError:\n",
        "    xgboost_available = False\n",
        "    print(\"XGBoost not installed. Skipping XGBoost model.\")\n",
        "\n",
        "try:\n",
        "    from catboost import CatBoostClassifier\n",
        "    catboost_available = True\n",
        "except ImportError:\n",
        "    catboost_available = False\n",
        "    print(\"CatBoost not installed. Skipping CatBoost model.\")\n",
        "\n",
        "# Load dataset\n",
        "from sklearn.datasets import load_breast_cancer\n",
        "data = load_breast_cancer()\n",
        "X, y = data.data, data.target\n",
        "\n",
        "# Split dataset\n",
        "X_train, X_test, y_train, y_test = train_test_split(X, y, test_size=0.2, random_state=42)\n",
        "\n",
        "# AdaBoost\n",
        "ada = AdaBoostClassifier(n_estimators=50, learning_rate=1.0, random_state=42)\n",
        "ada.fit(X_train, y_train)\n",
        "y_pred_ada = ada.predict(X_test)\n",
        "print(\"AdaBoost Accuracy:\", accuracy_score(y_test, y_pred_ada))\n",
        "\n",
        "# Gradient Boosting\n",
        "gb = GradientBoostingClassifier(n_estimators=100, learning_rate=0.1, random_state=42)\n",
        "gb.fit(X_train, y_train)\n",
        "y_pred_gb = gb.predict(X_test)\n",
        "print(\"Gradient Boosting Accuracy:\", accuracy_score(y_test, y_pred_gb))\n",
        "\n",
        "# XGBoost (if available)\n",
        "if xgboost_available:\n",
        "    xgb = XGBClassifier(n_estimators=100, learning_rate=0.1, use_label_encoder=False,\n",
        "                        eval_metric='logloss', random_state=42)\n",
        "    xgb.fit(X_train, y_train)\n",
        "    y_pred_xgb = xgb.predict(X_test)\n",
        "    print(\"XGBoost Accuracy:\", accuracy_score(y_test, y_pred_xgb))\n",
        "\n",
        "# CatBoost (if available)\n",
        "if catboost_available:\n",
        "    cat = CatBoostClassifier(n_estimators=100, learning_rate=0.1, verbose=0, random_state=42)\n",
        "    cat.fit(X_train, y_train)\n",
        "    y_pred_cat = cat.predict(X_test)\n",
        "    print(\"CatBoost Accuracy:\", accuracy_score(y_test, y_pred_cat))\n"
      ],
      "metadata": {
        "colab": {
          "base_uri": "https://localhost:8080/"
        },
        "id": "h8mwfJtBIOBg",
        "outputId": "b9a7442e-9664-464e-902a-bb7c9f909c77"
      },
      "execution_count": 33,
      "outputs": [
        {
          "output_type": "stream",
          "name": "stdout",
          "text": [
            "AdaBoost Accuracy: 0.9649122807017544\n",
            "Gradient Boosting Accuracy: 0.956140350877193\n"
          ]
        },
        {
          "output_type": "stream",
          "name": "stderr",
          "text": [
            "/usr/local/lib/python3.12/dist-packages/xgboost/training.py:183: UserWarning: [14:48:22] WARNING: /workspace/src/learner.cc:738: \n",
            "Parameters: { \"use_label_encoder\" } are not used.\n",
            "\n",
            "  bst.update(dtrain, iteration=i, fobj=obj)\n"
          ]
        },
        {
          "output_type": "stream",
          "name": "stdout",
          "text": [
            "XGBoost Accuracy: 0.956140350877193\n",
            "CatBoost Accuracy: 0.9649122807017544\n"
          ]
        }
      ]
    },
    {
      "cell_type": "code",
      "source": [
        "# =============================\n",
        "# Tasks 7-10: Ensemble Study with Scaling and Visualization\n",
        "# =============================\n",
        "\n",
        "# -----------------------------\n",
        "# Imports\n",
        "# -----------------------------\n",
        "import pandas as pd\n",
        "import numpy as np\n",
        "import time\n",
        "import matplotlib.pyplot as plt\n",
        "\n",
        "from sklearn.datasets import load_breast_cancer\n",
        "from sklearn.model_selection import train_test_split\n",
        "from sklearn.metrics import accuracy_score\n",
        "from sklearn.preprocessing import StandardScaler\n",
        "from sklearn.decomposition import PCA\n",
        "from sklearn.tree import DecisionTreeClassifier\n",
        "from sklearn.ensemble import BaggingClassifier, RandomForestClassifier, AdaBoostClassifier, GradientBoostingClassifier, VotingClassifier\n",
        "from sklearn.linear_model import LogisticRegression\n",
        "from sklearn.neighbors import KNeighborsClassifier\n",
        "from sklearn.svm import SVC\n",
        "from sklearn.impute import SimpleImputer\n",
        "\n",
        "# Optional Boosting Libraries\n",
        "try:\n",
        "    from xgboost import XGBClassifier\n",
        "    xgboost_available = True\n",
        "except ImportError:\n",
        "    xgboost_available = False\n",
        "    print(\"XGBoost not installed. Skipping XGBoost model.\")\n",
        "\n",
        "try:\n",
        "    from catboost import CatBoostClassifier\n",
        "    catboost_available = True\n",
        "except ImportError:\n",
        "    catboost_available = False\n",
        "    print(\"CatBoost not installed. Skipping CatBoost model.\")\n",
        "\n",
        "# -----------------------------\n",
        "# Load Dataset\n",
        "# -----------------------------\n",
        "data = load_breast_cancer()\n",
        "X, y = data.data, data.target\n",
        "X_train, X_test, y_train, y_test = train_test_split(X, y, test_size=0.2, random_state=42)\n",
        "\n",
        "# -----------------------------\n",
        "# Feature Scaling to fix LR warning\n",
        "# -----------------------------\n",
        "scaler = StandardScaler()\n",
        "X_train = scaler.fit_transform(X_train)\n",
        "X_test = scaler.transform(X_test)\n",
        "\n",
        "# -----------------------------\n",
        "# Task 7: Comparative Study of Ensembles\n",
        "# -----------------------------\n",
        "results = {}\n",
        "\n",
        "# Bagging\n",
        "start = time.time()\n",
        "bag = BaggingClassifier(n_estimators=50, random_state=42)\n",
        "bag.fit(X_train, y_train)\n",
        "results['Bagging'] = (accuracy_score(y_test, bag.predict(X_test)), time.time() - start)\n",
        "\n",
        "# Random Forest\n",
        "start = time.time()\n",
        "rf = RandomForestClassifier(n_estimators=100, random_state=42)\n",
        "rf.fit(X_train, y_train)\n",
        "results['Random Forest'] = (accuracy_score(y_test, rf.predict(X_test)), time.time() - start)\n",
        "\n",
        "# AdaBoost\n",
        "start = time.time()\n",
        "ada = AdaBoostClassifier(n_estimators=50, random_state=42)\n",
        "ada.fit(X_train, y_train)\n",
        "results['AdaBoost'] = (accuracy_score(y_test, ada.predict(X_test)), time.time() - start)\n",
        "\n",
        "# Gradient Boosting\n",
        "start = time.time()\n",
        "gb = GradientBoostingClassifier(n_estimators=100, random_state=42)\n",
        "gb.fit(X_train, y_train)\n",
        "results['Gradient Boosting'] = (accuracy_score(y_test, gb.predict(X_test)), time.time() - start)\n",
        "\n",
        "# XGBoost\n",
        "if xgboost_available:\n",
        "    start = time.time()\n",
        "    xgb = XGBClassifier(n_estimators=100, use_label_encoder=False, eval_metric='logloss', random_state=42)\n",
        "    xgb.fit(X_train, y_train)\n",
        "    results['XGBoost'] = (accuracy_score(y_test, xgb.predict(X_test)), time.time() - start)\n",
        "\n",
        "# CatBoost\n",
        "if catboost_available:\n",
        "    start = time.time()\n",
        "    cat = CatBoostClassifier(n_estimators=100, learning_rate=0.1, verbose=0, random_state=42)\n",
        "    cat.fit(X_train, y_train)\n",
        "    results['CatBoost'] = (accuracy_score(y_test, cat.predict(X_test)), time.time() - start)\n",
        "\n",
        "# Comparative Table\n",
        "df_results = pd.DataFrame(results).T\n",
        "df_results.columns = ['Accuracy', 'Training Time (s)']\n",
        "print(\"\\nComparative Study of Ensemble Models:\")\n",
        "print(df_results.sort_values(by='Accuracy', ascending=False))\n",
        "\n",
        "# -----------------------------\n",
        "# Task 8: Feature Importance & Robustness\n",
        "# -----------------------------\n",
        "rf = RandomForestClassifier(n_estimators=100, random_state=42)\n",
        "rf.fit(X_train, y_train)\n",
        "\n",
        "# Feature Importance Plot\n",
        "importances = rf.feature_importances_\n",
        "indices = np.argsort(importances)[::-1]\n",
        "\n",
        "plt.figure(figsize=(10,5))\n",
        "plt.title(\"Random Forest Feature Importances\")\n",
        "plt.bar(range(X.shape[1]), importances[indices], align='center')\n",
        "plt.xticks(range(X.shape[1]), np.array(data.feature_names)[indices], rotation=90)\n",
        "plt.tight_layout()\n",
        "plt.show()\n",
        "\n",
        "# Introduce missing values in half of the first column rows\n",
        "X_test_missing = X_test.copy()\n",
        "n_rows = X_test_missing.shape[0]\n",
        "X_test_missing[:n_rows//2, 0] = np.nan\n",
        "\n",
        "# Impute missing values\n",
        "imputer = SimpleImputer(strategy='mean')\n",
        "X_test_missing = imputer.fit_transform(X_test_missing)\n",
        "\n",
        "y_pred_missing = rf.predict(X_test_missing)\n",
        "print(\"\\nAccuracy with missing data:\", accuracy_score(y_test, y_pred_missing))\n",
        "\n",
        "# -----------------------------\n",
        "# Task 9: Heterogeneous Ensemble\n",
        "# -----------------------------\n",
        "estimators = [\n",
        "    ('dt', DecisionTreeClassifier()),\n",
        "    ('knn', KNeighborsClassifier()),\n",
        "    ('lr', LogisticRegression(max_iter=1000)),\n",
        "    ('svc', SVC(probability=True))\n",
        "]\n",
        "\n",
        "# Hard Voting\n",
        "hard_voting = VotingClassifier(estimators=estimators, voting='hard')\n",
        "hard_voting.fit(X_train, y_train)\n",
        "y_pred_hard = hard_voting.predict(X_test)\n",
        "print(\"\\nHeterogeneous Hard Voting Accuracy:\", accuracy_score(y_test, y_pred_hard))\n",
        "\n",
        "# Soft Voting\n",
        "soft_voting = VotingClassifier(estimators=estimators, voting='soft')\n",
        "soft_voting.fit(X_train, y_train)\n",
        "y_pred_soft = soft_voting.predict(X_test)\n",
        "print(\"Heterogeneous Soft Voting Accuracy:\", accuracy_score(y_test, y_pred_soft))\n",
        "\n",
        "# -----------------------------\n",
        "# Task 10: Homogeneous vs Heterogeneous Summary\n",
        "# -----------------------------\n",
        "summary = pd.DataFrame({\n",
        "    'Ensemble Type': ['Bagging', 'Random Forest', 'AdaBoost', 'Gradient Boosting',\n",
        "                      'XGBoost' if xgboost_available else None,\n",
        "                      'CatBoost' if catboost_available else None,\n",
        "                      'Heterogeneous Hard Voting', 'Heterogeneous Soft Voting'],\n",
        "    'Accuracy': [results['Bagging'][0], results['Random Forest'][0], results['AdaBoost'][0], results['Gradient Boosting'][0],\n",
        "                 results['XGBoost'][0] if xgboost_available else None,\n",
        "                 results['CatBoost'][0] if catboost_available else None,\n",
        "                 accuracy_score(y_test, y_pred_hard), accuracy_score(y_test, y_pred_soft)]\n",
        "})\n",
        "summary = summary.dropna().reset_index(drop=True)\n",
        "print(\"\\nHomogeneous vs Heterogeneous Ensembles Summary:\")\n",
        "print(summary)\n",
        "\n",
        "# -----------------------------\n",
        "# Optional: Visualize Decision Boundaries (2D PCA Projection)\n",
        "# -----------------------------\n",
        "pca = PCA(n_components=2)\n",
        "X_train_2d = pca.fit_transform(X_train)\n",
        "X_test_2d = pca.transform(X_test)\n",
        "\n",
        "# Fit a simple heterogeneous hard voting on 2D data for visualization\n",
        "hard_voting_2d = VotingClassifier(estimators=estimators, voting='hard')\n",
        "hard_voting_2d.fit(X_train_2d, y_train)\n",
        "\n",
        "# Meshgrid for plotting\n",
        "x_min, x_max = X_train_2d[:, 0].min() - 1, X_train_2d[:, 0].max() + 1\n",
        "y_min, y_max = X_train_2d[:, 1].min() - 1, X_train_2d[:, 1].max() + 1\n",
        "xx, yy = np.meshgrid(np.arange(x_min, x_max, 0.1),\n",
        "                     np.arange(y_min, y_max, 0.1))\n",
        "\n",
        "Z = hard_voting_2d.predict(np.c_[xx.ravel(), yy.ravel()])\n",
        "Z = Z.reshape(xx.shape)\n",
        "\n",
        "plt.figure(figsize=(8,6))\n",
        "plt.contourf(xx, yy, Z, alpha=0.3)\n",
        "plt.scatter(X_test_2d[:,0], X_test_2d[:,1], c=y_test, edgecolor='k')\n",
        "plt.title(\"Decision Boundary: Heterogeneous Hard Voting (2D PCA Projection)\")\n",
        "plt.xlabel(\"PCA 1\")\n",
        "plt.ylabel(\"PCA 2\")\n",
        "plt.show()\n"
      ],
      "metadata": {
        "colab": {
          "base_uri": "https://localhost:8080/",
          "height": 1000
        },
        "id": "COhnP9zvMA1G",
        "outputId": "d431573e-a268-4e31-ca4d-ee6af260fd2a"
      },
      "execution_count": 38,
      "outputs": [
        {
          "output_type": "stream",
          "name": "stderr",
          "text": [
            "/usr/local/lib/python3.12/dist-packages/xgboost/training.py:183: UserWarning: [14:54:13] WARNING: /workspace/src/learner.cc:738: \n",
            "Parameters: { \"use_label_encoder\" } are not used.\n",
            "\n",
            "  bst.update(dtrain, iteration=i, fobj=obj)\n"
          ]
        },
        {
          "output_type": "stream",
          "name": "stdout",
          "text": [
            "\n",
            "Comparative Study of Ensemble Models:\n",
            "                   Accuracy  Training Time (s)\n",
            "Random Forest      0.964912           0.853319\n",
            "AdaBoost           0.964912           0.588710\n",
            "CatBoost           0.964912           2.007908\n",
            "Bagging            0.956140           1.658810\n",
            "Gradient Boosting  0.956140           1.739142\n",
            "XGBoost            0.956140           0.560398\n"
          ]
        },
        {
          "output_type": "display_data",
          "data": {
            "text/plain": [
              "<Figure size 1000x500 with 1 Axes>"
            ],
            "image/png": "[encoded data removed]"
          },
          "metadata": {}
        },
        {
          "output_type": "stream",
          "name": "stdout",
          "text": [
            "\n",
            "Accuracy with missing data: 0.9649122807017544\n",
            "\n",
            "Heterogeneous Hard Voting Accuracy: 0.9736842105263158\n",
            "Heterogeneous Soft Voting Accuracy: 0.9736842105263158\n",
            "\n",
            "Homogeneous vs Heterogeneous Ensembles Summary:\n",
            "               Ensemble Type  Accuracy\n",
            "0                    Bagging  0.956140\n",
            "1              Random Forest  0.964912\n",
            "2                   AdaBoost  0.964912\n",
            "3          Gradient Boosting  0.956140\n",
            "4                    XGBoost  0.956140\n",
            "5                   CatBoost  0.964912\n",
            "6  Heterogeneous Hard Voting  0.973684\n",
            "7  Heterogeneous Soft Voting  0.973684\n"
          ]
        },
        {
          "output_type": "display_data",
          "data": {
            "text/plain": [
              "<Figure size 800x600 with 1 Axes>"
            ],
            "image/png": "[encoded data removed]"
          },
          "metadata": {}
        }
      ]
    }
  ]
}