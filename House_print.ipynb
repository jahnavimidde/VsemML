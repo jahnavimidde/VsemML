{
  "nbformat": 4,
  "nbformat_minor": 0,
  "metadata": {
    "colab": {
      "provenance": [],
      "include_colab_link": true
    },
    "kernelspec": {
      "name": "python3",
      "display_name": "Python 3"
    },
    "language_info": {
      "name": "python"
    }
  },
  "cells": [
    {
      "cell_type": "markdown",
      "metadata": {
        "id": "view-in-github",
        "colab_type": "text"
      },
      "source": [
        "<a href=\"https://colab.research.google.com/github/jahnavimidde/VsemML/blob/main/House_print.ipynb\" target=\"_parent\"><img src=\"https://colab.research.google.com/assets/colab-badge.svg\" alt=\"Open In Colab\"/></a>"
      ]
    },
    {
      "cell_type": "code",
      "execution_count": 1,
      "metadata": {
        "colab": {
          "base_uri": "https://localhost:8080/"
        },
        "id": "TUaSYyoGaEsb",
        "outputId": "f3ce9adb-bc21-49e0-fb0b-c18504a98abd"
      },
      "outputs": [
        {
          "output_type": "stream",
          "name": "stdout",
          "text": [
            "   Id  MSSubClass MSZoning  LotFrontage  LotArea Street Alley LotShape  \\\n",
            "0   1          60       RL         65.0     8450   Pave   NaN      Reg   \n",
            "1   2          20       RL         80.0     9600   Pave   NaN      Reg   \n",
            "\n",
            "  LandContour Utilities  ... PoolArea PoolQC Fence MiscFeature MiscVal MoSold  \\\n",
            "0         Lvl    AllPub  ...        0    NaN   NaN         NaN       0      2   \n",
            "1         Lvl    AllPub  ...        0    NaN   NaN         NaN       0      5   \n",
            "\n",
            "  YrSold  SaleType  SaleCondition  SalePrice  \n",
            "0   2008        WD         Normal     208500  \n",
            "1   2007        WD         Normal     181500  \n",
            "\n",
            "[2 rows x 81 columns]\n"
          ]
        }
      ],
      "source": [
        "import pandas as pd\n",
        "df = pd.read_csv(\"/content/house_price_train (1).csv\",encoding=\"utf-8\",delimiter=\",\")\n",
        "print(df.head(2))"
      ]
    },
    {
      "cell_type": "code",
      "source": [
        "#Handling null values\n",
        "num_fea = df.select_dtypes(include=[\"number\"]).columns.tolist()\n",
        "cat_fea = df.select_dtypes(include=[\"object\",\"category\"]).columns.tolist()\n",
        "df[num_fea]=df[num_fea].fillna(df[num_fea].median())\n",
        "df[cat_fea]=df[cat_fea].fillna(\"Unknown\")"
      ],
      "metadata": {
        "id": "WuDDJw48dsVS"
      },
      "execution_count": 2,
      "outputs": []
    },
    {
      "cell_type": "code",
      "source": [
        "#Encode categorical features\n",
        "pd.get_dummies(df,columns=cat_fea,drop_first=True)\n",
        "print(df.head(3))"
      ],
      "metadata": {
        "colab": {
          "base_uri": "https://localhost:8080/"
        },
        "id": "uOyDNperbet9",
        "outputId": "03544b2c-778c-4dd0-90ad-5750c880736a"
      },
      "execution_count": 3,
      "outputs": [
        {
          "output_type": "stream",
          "name": "stdout",
          "text": [
            "   Id  MSSubClass MSZoning  LotFrontage  LotArea Street    Alley LotShape  \\\n",
            "0   1          60       RL         65.0     8450   Pave  Unknown      Reg   \n",
            "1   2          20       RL         80.0     9600   Pave  Unknown      Reg   \n",
            "2   3          60       RL         68.0    11250   Pave  Unknown      IR1   \n",
            "\n",
            "  LandContour Utilities  ... PoolArea   PoolQC    Fence MiscFeature MiscVal  \\\n",
            "0         Lvl    AllPub  ...        0  Unknown  Unknown     Unknown       0   \n",
            "1         Lvl    AllPub  ...        0  Unknown  Unknown     Unknown       0   \n",
            "2         Lvl    AllPub  ...        0  Unknown  Unknown     Unknown       0   \n",
            "\n",
            "  MoSold YrSold  SaleType  SaleCondition  SalePrice  \n",
            "0      2   2008        WD         Normal     208500  \n",
            "1      5   2007        WD         Normal     181500  \n",
            "2      9   2008        WD         Normal     223500  \n",
            "\n",
            "[3 rows x 81 columns]\n"
          ]
        }
      ]
    },
    {
      "cell_type": "code",
      "source": [
        "#Data Splitting\n",
        "from sklearn.model_selection import train_test_split\n",
        "X=df.drop(\"SalePrice\",axis=1)\n",
        "y=df[\"SalePrice\"]\n",
        "X_train,X_test,y_train,y_test=train_test_split(X,y,test_size=0.3,random_state=42)"
      ],
      "metadata": {
        "id": "ouA_dFEEBQQ2"
      },
      "execution_count": 4,
      "outputs": []
    },
    {
      "cell_type": "code",
      "source": [
        "# Basic Filter methods\n",
        "cat_fea = X_train.select_dtypes(include=[\"object\"]).columns.tolist()\n",
        "num_fea = X_train.select_dtypes(include=[\"number\"]).columns.tolist()\n",
        "\n",
        "X_train = pd.get_dummies(X_train, columns=cat_fea, drop_first=True)\n",
        "X_train = X_train.astype(int)\n",
        "X_test = pd.get_dummies(X_test, columns=cat_fea, drop_first=True)\n",
        "X_test = X_test.astype(int)\n",
        "for col in X_train.columns:\n",
        "    if col not in X_test.columns:\n",
        "        X_test[col] = 0\n",
        "# Reorder test columns to match train\n",
        "X_test = X_test[X_train.columns]\n",
        "\n",
        "\n",
        "#  Removing constant features\n",
        "const = []\n",
        "for features in X_train:\n",
        "    if X_train[features].std() == 0:\n",
        "        const.append(features)\n",
        "print(\"Number of constant features:\", len(const))\n",
        "X_train.drop(labels=const, axis=1, inplace=True)\n",
        "X_test.drop(labels=const, axis=1, inplace=True)  # Apply same removal to X_test\n",
        "\n",
        "#  Removing quasi-constant features\n",
        "quasi_constant = []\n",
        "for feature in X_train.columns:\n",
        "    predominant = (X_train[feature].value_counts() / float(len(X_train))).sort_values(ascending=False).values[0]\n",
        "    if predominant > 0.999:\n",
        "        quasi_constant.append(feature)\n",
        "print(\"Number of quasi constant features:\", len(quasi_constant))\n",
        "X_train.drop(labels=quasi_constant, axis=1, inplace=True)\n",
        "X_test.drop(labels=quasi_constant, axis=1, inplace=True)  # Apply same removal to X_test\n",
        "\n",
        "#  Removing duplicated features\n",
        "duplicates = []\n",
        "for i in range(len(X_train.columns)):\n",
        "    col1 = X_train.columns[i]\n",
        "    for col2 in X_train.columns[i+1:]:\n",
        "        if X_train[col1].equals(X_train[col2]):  # Checks content equality\n",
        "            duplicates.append(col2)\n",
        "print(\"Number of duplicate features:\", len(duplicates))\n",
        "X_train.drop(labels=duplicates, axis=1, inplace=True)\n",
        "X_test.drop(labels=duplicates, axis=1, inplace=True, errors='ignore')  # Ignore missing columns to avoid KeyError\n",
        "\n"
      ],
      "metadata": {
        "colab": {
          "base_uri": "https://localhost:8080/"
        },
        "id": "-eENHQTMrAdn",
        "outputId": "07c9e4aa-9662-4c1a-a37b-73ec5060644a"
      },
      "execution_count": 5,
      "outputs": [
        {
          "output_type": "stream",
          "name": "stdout",
          "text": [
            "Number of constant features: 0\n",
            "Number of quasi constant features: 23\n",
            "Number of duplicate features: 16\n"
          ]
        }
      ]
    },
    {
      "cell_type": "code",
      "source": [
        "# Statistical Filter Methods\n",
        "from sklearn.feature_selection import SelectKBest, f_regression, mutual_info_regression\n",
        "from scipy.stats import pearsonr, spearmanr\n",
        "import pandas as pd\n",
        "import numpy as np\n",
        "\n",
        "# Separate numerical and categorical features based on unique values in X_train\n",
        "num_features = [col for col in X_train.columns if not set(X_train[col].unique()).issubset({0, 1})]\n",
        "cat_features = [col for col in X_train.columns if set(X_train[col].unique()).issubset({0, 1})]\n",
        "pearson_corr = []\n",
        "spearman_corr = []\n",
        "\n",
        "for col in num_features:\n",
        "    p_corr, _ = pearsonr(X_train[col], y_train)\n",
        "    s_corr, _ = spearmanr(X_train[col], y_train)\n",
        "    pearson_corr.append((col, p_corr))\n",
        "    spearman_corr.append((col, s_corr))\n",
        "\n",
        "pearson_df = pd.DataFrame(pearson_corr, columns=[\"Feature\", \"PearsonCorr\"]).set_index(\"Feature\")\n",
        "spearman_df = pd.DataFrame(spearman_corr, columns=[\"Feature\", \"SpearmanCorr\"]).set_index(\"Feature\")\n",
        "print(\"Top 10 features by absolute Pearson correlation:\")\n",
        "print(pearson_df[\"PearsonCorr\"].abs().sort_values(ascending=False).head(10))\n",
        "print(\"\\nTop 10 features by absolute Spearman correlation:\")\n",
        "print(spearman_df[\"SpearmanCorr\"].abs().sort_values(ascending=False).head(10))\n",
        "\n",
        "# Anova\n",
        "f_values, p_values = f_regression(X_train[num_features], y_train)\n",
        "anova_df = pd.DataFrame({\n",
        "    \"Numerical Features\": num_features,\n",
        "    \"F_values\": f_values,\n",
        "    \"P_values\": p_values\n",
        "})\n",
        "anova_df.sort_values(by=\"P_values\", inplace=True)\n",
        "significant_numeric_features = anova_df[anova_df[\"P_values\"] < 0.05][\"Numerical Features\"].tolist()\n",
        "print(\"\\nSignificant numerical features from ANOVA (p<0.05):\")\n",
        "print(significant_numeric_features)\n",
        "\n",
        "# Mutual information\n",
        "selector_mi = SelectKBest(score_func=mutual_info_regression, k=\"all\")\n",
        "selector_mi.fit(X_train[cat_features], y_train)\n",
        "mi_scores = selector_mi.scores_\n",
        "\n",
        "mi_df = pd.DataFrame({\n",
        "    \"Categorical Features\": cat_features,\n",
        "    \"Mutual_Info_Scores\": mi_scores\n",
        "})\n",
        "mi_df.sort_values(by=\"Mutual_Info_Scores\", ascending=False, inplace=True)\n",
        "\n",
        "# Select categorical features with MI > 0 (non-zero dependence)\n",
        "significant_cat_features = mi_df[mi_df[\"Mutual_Info_Scores\"] > 0][\"Categorical Features\"].tolist()\n",
        "print(\"\\nSignificant categorical features from Mutual Information (MI > 0):\")\n",
        "print(significant_cat_features)\n",
        "\n",
        "final_selected_features = list(set(significant_numeric_features + significant_cat_features))\n",
        "\n",
        "# Filter the datasets to keep only selected features\n",
        "X_train_filtered = X_train[final_selected_features]\n",
        "for col in final_selected_features:\n",
        "    if col not in X_test.columns:\n",
        "        X_test[col] = 0\n",
        "X_test_filtered = X_test[final_selected_features]"
      ],
      "metadata": {
        "id": "c2qe66uo_nsJ",
        "colab": {
          "base_uri": "https://localhost:8080/"
        },
        "outputId": "1d0e1769-2373-469b-f022-b189157d722f"
      },
      "execution_count": 6,
      "outputs": [
        {
          "output_type": "stream",
          "name": "stdout",
          "text": [
            "Top 10 features by absolute Pearson correlation:\n",
            "Feature\n",
            "OverallQual     0.784720\n",
            "GrLivArea       0.689238\n",
            "GarageCars      0.642689\n",
            "GarageArea      0.621937\n",
            "TotalBsmtSF     0.590017\n",
            "1stFlrSF        0.583132\n",
            "FullBath        0.549164\n",
            "TotRmsAbvGrd    0.519634\n",
            "YearBuilt       0.512206\n",
            "YearRemodAdd    0.512190\n",
            "Name: PearsonCorr, dtype: float64\n",
            "\n",
            "Top 10 features by absolute Spearman correlation:\n",
            "Feature\n",
            "OverallQual     0.804608\n",
            "GrLivArea       0.722232\n",
            "GarageCars      0.684316\n",
            "YearBuilt       0.636620\n",
            "GarageArea      0.636605\n",
            "FullBath        0.619064\n",
            "TotalBsmtSF     0.594487\n",
            "YearRemodAdd    0.571357\n",
            "1stFlrSF        0.565796\n",
            "GarageYrBlt     0.549312\n",
            "Name: SpearmanCorr, dtype: float64\n",
            "\n",
            "Significant numerical features from ANOVA (p<0.05):\n",
            "['OverallQual', 'GrLivArea', 'GarageCars', 'GarageArea', 'TotalBsmtSF', '1stFlrSF', 'FullBath', 'TotRmsAbvGrd', 'YearBuilt', 'YearRemodAdd', 'Fireplaces', 'GarageYrBlt', 'MasVnrArea', 'BsmtFinSF1', 'WoodDeckSF', 'LotFrontage', '2ndFlrSF', 'HalfBath', 'OpenPorchSF', 'LotArea', 'BsmtFullBath', 'BsmtUnfSF', 'BedroomAbvGr', 'EnclosedPorch', 'KitchenAbvGr', 'PoolArea', 'ScreenPorch', 'MSSubClass', 'OverallCond']\n",
            "\n",
            "Significant categorical features from Mutual Information (MI > 0):\n",
            "['ExterQual_TA', 'ExterQual_Gd', 'KitchenQual_TA', 'Foundation_PConc', 'FireplaceQu_Unknown', 'BsmtQual_TA', 'BsmtQual_Gd', 'KitchenQual_Gd', 'GarageFinish_Unf', 'GarageType_Detchd', 'BsmtFinType1_GLQ', 'GarageType_Attchd', 'Exterior2nd_VinylSd', 'Exterior1st_VinylSd', 'Foundation_CBlock', 'GarageCond_TA', 'MasVnrType_Unknown', 'HeatingQC_TA', 'LotShape_Reg', 'GarageFinish_RFn', 'CentralAir_Y', 'MSZoning_RM', 'FireplaceQu_TA', 'Neighborhood_NridgHt', 'Neighborhood_NoRidge', 'FireplaceQu_Gd', 'GarageType_Unknown', 'HouseStyle_2Story', 'GarageQual_TA', 'SaleCondition_Partial', 'SaleType_New', 'MasVnrType_Stone', 'Exterior1st_Wd Sdng', 'Electrical_SBrkr', 'Neighborhood_NAmes', 'MSZoning_RL', 'Neighborhood_CollgCr', 'MasVnrType_BrkFace', 'Neighborhood_Somerst', 'Exterior2nd_HdBoard', 'Neighborhood_Sawyer', 'Exterior1st_HdBoard', 'SaleType_WD', 'Neighborhood_IDOTRR', 'BsmtExposure_Gd', 'HeatingQC_Gd', 'Exterior2nd_Wd Sdng', 'Neighborhood_Edwards', 'PavedDrive_Y', 'BsmtExposure_No', 'Fence_Unknown', 'MSZoning_FV', 'Fence_MnPrv', 'LotConfig_Inside', 'Neighborhood_OldTown', 'HouseStyle_1.5Unf', 'BldgType_Duplex', 'HouseStyle_SLvl', 'Exterior1st_MetalSd', 'LandContour_Lvl', 'BldgType_Twnhs', 'Neighborhood_BrDale', 'Neighborhood_ClearCr', 'Neighborhood_Gilbert', 'BsmtFinType1_LwQ', 'Neighborhood_Mitchel', 'LandContour_HLS', 'LotConfig_CulDSac', 'Foundation_Slab', 'Functional_Min2', 'Exterior2nd_MetalSd', 'HouseStyle_1Story', 'GarageCond_Fa', 'Alley_Pave', 'BsmtQual_Unknown', 'KitchenQual_Fa', 'BsmtFinType1_Rec', 'Neighborhood_Crawfor', 'PavedDrive_P', 'GarageType_BuiltIn', 'Condition1_Feedr', 'Electrical_FuseP', 'RoofStyle_Gable', 'ExterQual_Fa', 'Condition1_Norm', 'Neighborhood_MeadowV', 'HeatingQC_Fa', 'GarageQual_Fa', 'HouseStyle_2.5Unf', 'ExterCond_Fa', 'Neighborhood_Veenker', 'Alley_Unknown', 'HouseStyle_SFoyer', 'Neighborhood_BrkSide', 'SaleCondition_Normal', 'Exterior2nd_Wd Shng', 'Condition1_PosA', 'BsmtFinType1_BLQ', 'BldgType_2fmCon', 'Neighborhood_NPkVill', 'Exterior2nd_CmentBd', 'Fence_GdWo', 'ExterCond_TA', 'GarageType_Basment', 'BsmtFinType1_Unf', 'Fence_MnWw', 'RoofStyle_Hip', 'Exterior1st_CemntBd', 'LotShape_IR2', 'Electrical_FuseF', 'Functional_Typ', 'BsmtQual_Fa', 'BsmtExposure_Mn', 'LotConfig_FR2', 'Heating_GasA', 'HouseStyle_2.5Fin', 'Neighborhood_StoneBr', 'Neighborhood_Timber', 'Exterior1st_WdShing', 'Heating_Wall', 'Neighborhood_NWAmes', 'FireplaceQu_Po', 'RoofStyle_Gambrel', 'Exterior1st_BrkComm', 'Neighborhood_SWISU', 'Exterior2nd_Plywood', 'GarageQual_Gd', 'BsmtCond_Gd', 'LandSlope_Mod', 'RoofStyle_Mansard', 'Neighborhood_SawyerW', 'GarageCond_Po', 'BsmtFinType2_LwQ', 'BsmtFinType2_GLQ', 'ExterCond_Gd', 'Exterior2nd_Brk Cmn', 'SaleType_ConLw', 'Functional_Maj2', 'Condition1_RRAn', 'SaleType_CWD', 'Condition1_PosN', 'Condition2_PosN', 'PoolQC_Unknown', 'Heating_Grav', 'Exterior2nd_ImStucc', 'Condition2_Norm', 'Functional_Min1']\n"
          ]
        }
      ]
    },
    {
      "cell_type": "code",
      "source": [
        "#Dataset after preprocessing and feature selection\n",
        "print(X_train.head(3))"
      ],
      "metadata": {
        "colab": {
          "base_uri": "https://localhost:8080/"
        },
        "id": "NN_DoviFT5yp",
        "outputId": "29959fe5-bdba-44de-82cd-add345b2010d"
      },
      "execution_count": 7,
      "outputs": [
        {
          "output_type": "stream",
          "name": "stdout",
          "text": [
            "        Id  MSSubClass  LotFrontage  LotArea  OverallQual  OverallCond  \\\n",
            "135    136          20           80    10400            7            6   \n",
            "1452  1453         180           35     3675            5            5   \n",
            "762    763          60           72     8640            7            5   \n",
            "\n",
            "      YearBuilt  YearRemodAdd  MasVnrArea  BsmtFinSF1  ...  SaleType_Con  \\\n",
            "135        1970          1970         288           0  ...             0   \n",
            "1452       2005          2005          80         547  ...             0   \n",
            "762        2009          2009           0          24  ...             1   \n",
            "\n",
            "      SaleType_ConLD  SaleType_ConLw  SaleType_New  SaleType_WD  \\\n",
            "135                0               0             0            1   \n",
            "1452               0               0             0            1   \n",
            "762                0               0             0            0   \n",
            "\n",
            "      SaleCondition_AdjLand  SaleCondition_Alloca  SaleCondition_Family  \\\n",
            "135                       0                     0                     0   \n",
            "1452                      0                     0                     0   \n",
            "762                       0                     0                     0   \n",
            "\n",
            "      SaleCondition_Normal  SaleCondition_Partial  \n",
            "135                      1                      0  \n",
            "1452                     1                      0  \n",
            "762                      1                      0  \n",
            "\n",
            "[3 rows x 226 columns]\n"
          ]
        }
      ]
    }
  ]
}