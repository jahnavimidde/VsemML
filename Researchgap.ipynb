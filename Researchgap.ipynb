{
  "cells": [
    {
      "cell_type": "markdown",
      "metadata": {
        "id": "view-in-github",
        "colab_type": "text"
      },
      "source": [
        "<a href=\"https://colab.research.google.com/github/jahnavimidde/VsemML/blob/main/Researchgap.ipynb\" target=\"_parent\"><img src=\"https://colab.research.google.com/assets/colab-badge.svg\" alt=\"Open In Colab\"/></a>"
      ]
    },
    {
      "cell_type": "code",
      "execution_count": 2,
      "metadata": {
        "colab": {
          "base_uri": "https://localhost:8080/"
        },
        "id": "Rl6CK2ZLBpsx",
        "outputId": "b566d771-f8ac-4430-c412-e5d6c27b77cc"
      },
      "outputs": [
        {
          "output_type": "stream",
          "name": "stdout",
          "text": [
            "Shape of dataset: (145460, 112)\n",
            "Columns: Index(['Date', 'MinTemp', 'MaxTemp', 'Rainfall', 'Evaporation', 'Sunshine',\n",
            "       'WindGustSpeed', 'WindSpeed9am', 'WindSpeed3pm', 'Humidity9am',\n",
            "       ...\n",
            "       'Location_Townsville', 'Location_Tuggeranong', 'Location_Uluru',\n",
            "       'Location_WaggaWagga', 'Location_Walpole', 'Location_Watsonia',\n",
            "       'Location_Williamtown', 'Location_Witchcliffe', 'Location_Wollongong',\n",
            "       'Location_Woomera'],\n",
            "      dtype='object', length=112)\n",
            "First 5 rows:\n",
            "          Date  MinTemp  MaxTemp  Rainfall  Evaporation  Sunshine  \\\n",
            "0  2008-12-01     13.4     22.9       0.6          4.8       8.4   \n",
            "1  2008-12-02      7.4     25.1       0.0          4.8       8.4   \n",
            "2  2008-12-03     12.9     25.7       0.0          4.8       8.4   \n",
            "3  2008-12-04      9.2     28.0       0.0          4.8       8.4   \n",
            "4  2008-12-05     17.5     32.3       1.0          4.8       8.4   \n",
            "\n",
            "   WindGustSpeed  WindSpeed9am  WindSpeed3pm  Humidity9am  ...  \\\n",
            "0           44.0          20.0          24.0         71.0  ...   \n",
            "1           44.0           4.0          22.0         44.0  ...   \n",
            "2           46.0          19.0          26.0         38.0  ...   \n",
            "3           24.0          11.0           9.0         45.0  ...   \n",
            "4           41.0           7.0          20.0         82.0  ...   \n",
            "\n",
            "   Location_Townsville  Location_Tuggeranong  Location_Uluru  \\\n",
            "0                False                 False           False   \n",
            "1                False                 False           False   \n",
            "2                False                 False           False   \n",
            "3                False                 False           False   \n",
            "4                False                 False           False   \n",
            "\n",
            "   Location_WaggaWagga  Location_Walpole  Location_Watsonia  \\\n",
            "0                False             False              False   \n",
            "1                False             False              False   \n",
            "2                False             False              False   \n",
            "3                False             False              False   \n",
            "4                False             False              False   \n",
            "\n",
            "   Location_Williamtown  Location_Witchcliffe  Location_Wollongong  \\\n",
            "0                 False                 False                False   \n",
            "1                 False                 False                False   \n",
            "2                 False                 False                False   \n",
            "3                 False                 False                False   \n",
            "4                 False                 False                False   \n",
            "\n",
            "   Location_Woomera  \n",
            "0             False  \n",
            "1             False  \n",
            "2             False  \n",
            "3             False  \n",
            "4             False  \n",
            "\n",
            "[5 rows x 112 columns]\n"
          ]
        }
      ],
      "source": [
        "# ==============================\n",
        "# Rainfall Prediction - Preprocessing\n",
        "# ==============================\n",
        "\n",
        "import pandas as pd\n",
        "\n",
        "# Step 1: Load dataset\n",
        "data = pd.read_csv(\"/content/weatherAUS.csv\")  # Replace with your file path\n",
        "\n",
        "# Step 2: Handle missing values\n",
        "# 2a: Fill numeric columns with median\n",
        "numeric_cols = data.select_dtypes(include=['int64', 'float64']).columns\n",
        "data[numeric_cols] = data[numeric_cols].fillna(data[numeric_cols].median())\n",
        "\n",
        "# 2b: Fill categorical columns with mode\n",
        "categorical_cols = data.select_dtypes(include=['object']).columns\n",
        "for col in categorical_cols:\n",
        "    data[col] = data[col].fillna(data[col].mode()[0])\n",
        "\n",
        "# Step 3: Encode categorical features\n",
        "# Convert Yes/No to 0/1\n",
        "data['RainToday'] = data['RainToday'].map({'Yes':1, 'No':0})\n",
        "data['RainTomorrow'] = data['RainTomorrow'].map({'Yes':1, 'No':0})\n",
        "\n",
        "# One-hot encode categorical columns like wind direction or location\n",
        "categorical_features = ['WindGustDir', 'WindDir9am', 'WindDir3pm', 'Location']\n",
        "for col in categorical_features:\n",
        "    if col in data.columns:\n",
        "        data = pd.get_dummies(data, columns=[col], drop_first=True)\n",
        "\n",
        "# Step 4: Check the preprocessed dataset\n",
        "print(\"Shape of dataset:\", data.shape)\n",
        "print(\"Columns:\", data.columns)\n",
        "print(\"First 5 rows:\\n\", data.head())\n"
      ]
    },
    {
      "cell_type": "code",
      "execution_count": 3,
      "metadata": {
        "id": "V7t7rCmaC7aA"
      },
      "outputs": [],
      "source": [
        "# Drop columns that are not numeric or not useful for prediction\n",
        "columns_to_drop = ['Date']  # You can add more if needed\n",
        "for col in columns_to_drop:\n",
        "    if col in data.columns:\n",
        "        data = data.drop(col, axis=1)\n"
      ]
    },
    {
      "cell_type": "code",
      "execution_count": 4,
      "metadata": {
        "colab": {
          "base_uri": "https://localhost:8080/"
        },
        "id": "oFqBFNiXC-Ut",
        "outputId": "37be9ee7-a75d-42bd-c1f2-7b32345426c8"
      },
      "outputs": [
        {
          "output_type": "stream",
          "name": "stdout",
          "text": [
            "Remaining non-numeric columns: Index([], dtype='object')\n"
          ]
        }
      ],
      "source": [
        "# Check for any remaining non-numeric columns\n",
        "non_numeric_cols = data.select_dtypes(include=['object']).columns\n",
        "print(\"Remaining non-numeric columns:\", non_numeric_cols)\n"
      ]
    },
    {
      "cell_type": "code",
      "execution_count": 5,
      "metadata": {
        "colab": {
          "base_uri": "https://localhost:8080/"
        },
        "id": "1Nkgpw5ACuHL",
        "outputId": "1865abda-8db2-4dde-8059-ac64ec0574be"
      },
      "outputs": [
        {
          "output_type": "stream",
          "name": "stdout",
          "text": [
            "Baseline Random Forest Accuracy: 0.8516774370961089\n"
          ]
        }
      ],
      "source": [
        "# ==============================\n",
        "# Rainfall Prediction - Train/Test Split & Baseline Model\n",
        "# ==============================\n",
        "\n",
        "from sklearn.model_selection import train_test_split\n",
        "from sklearn.ensemble import RandomForestClassifier\n",
        "from sklearn.metrics import accuracy_score\n",
        "\n",
        "# Step 1: Split dataset into features (X) and target (y)\n",
        "X = data.drop('RainTomorrow', axis=1)  # Features\n",
        "y = data['RainTomorrow']                # Target variable\n",
        "\n",
        "# Step 2: Split into training and testing sets (80% train, 20% test)\n",
        "X_train, X_test, y_train, y_test = train_test_split(X, y, test_size=0.2, random_state=42)\n",
        "\n",
        "# Step 3: Create a baseline Random Forest classifier\n",
        "rf = RandomForestClassifier(random_state=42)\n",
        "\n",
        "# Step 4: Train the model on training data\n",
        "rf.fit(X_train, y_train)\n",
        "\n",
        "# Step 5: Make predictions on the test set\n",
        "y_pred = rf.predict(X_test)\n",
        "\n",
        "# Step 6: Evaluate model performance\n",
        "accuracy = accuracy_score(y_test, y_pred)\n",
        "print(\"Baseline Random Forest Accuracy:\", accuracy)\n"
      ]
    },
    {
      "cell_type": "code",
      "execution_count": null,
      "metadata": {
        "colab": {
          "background_save": true
        },
        "id": "F9WySIgcC6Bf",
        "outputId": "10bbded4-f831-469b-9a47-21ae800c3ef8"
      },
      "outputs": [
        {
          "name": "stdout",
          "output_type": "stream",
          "text": [
            "Accuracy (Balanced RF): 0.8509212154544205\n",
            "Confusion Matrix:\n",
            " [[21728   944]\n",
            " [ 3393  3027]]\n",
            "Classification Report:\n",
            "               precision    recall  f1-score   support\n",
            "\n",
            "           0       0.86      0.96      0.91     22672\n",
            "           1       0.76      0.47      0.58      6420\n",
            "\n",
            "    accuracy                           0.85     29092\n",
            "   macro avg       0.81      0.71      0.75     29092\n",
            "weighted avg       0.84      0.85      0.84     29092\n",
            "\n"
          ]
        }
      ],
      "source": [
        "# ==============================\n",
        "# Rainfall Prediction - Faster Hyperparameter Tuning\n",
        "# ==============================\n",
        "\n",
        "from sklearn.model_selection import RandomizedSearchCV\n",
        "from sklearn.ensemble import RandomForestClassifier\n",
        "from sklearn.metrics import accuracy_score, classification_report, confusion_matrix\n",
        "\n",
        "# Step 1: Define smaller hyperparameter ranges\n",
        "param_dist = {\n",
        "    'n_estimators': [100, 200, 300],       # Number of trees\n",
        "    'max_depth': [5, 10, 20, None],        # Maximum depth\n",
        "    'min_samples_split': [2, 5, 10],       # Min samples to split a node\n",
        "    'min_samples_leaf': [1, 2, 4]          # Min samples at a leaf\n",
        "}\n",
        "\n",
        "# Step 2: Use a subset of training data to speed up tuning (optional)\n",
        "X_small = X_train.sample(frac=0.3, random_state=42)\n",
        "y_small = y_train.loc[X_small.index]\n",
        "\n",
        "# Step 3: Create RandomizedSearchCV object\n",
        "rf = RandomForestClassifier(random_state=42)\n",
        "random_search = RandomizedSearchCV(\n",
        "    estimator=rf,\n",
        "    param_distributions=param_dist,\n",
        "    n_iter=10,          # Only 10 random combinations (faster than full grid)\n",
        "    cv=3,\n",
        "    scoring='accuracy',\n",
        "    n_jobs=-1,          # Use all CPU cores\n",
        "    random_state=42\n",
        ")\n",
        "\n",
        "# Step 4: Fit RandomizedSearchCV\n",
        "random_search.fit(X_small, y_small)\n",
        "\n",
        "# Step 5: Get best parameters and cross-validation accuracy\n",
        "print(\"Best Hyperparameters:\", random_search.best_params_)\n",
        "print(\"Best Cross-Validation Accuracy:\", random_search.best_score_)\n",
        "\n",
        "# Step 6: Evaluate tuned model on the full test set\n",
        "y_pred_tuned = random_search.predict(X_test)\n",
        "print(\"Test Accuracy (Tuned Model):\", accuracy_score(y_test, y_pred_tuned))\n",
        "print(\"Confusion Matrix:\\n\", confusion_matrix(y_test, y_pred_tuned))\n",
        "print(\"Classification Report:\\n\", classification_report(y_test, y_pred_tuned))\n"
      ]
    },
    {
      "cell_type": "code",
      "source": [
        "# =============================\n",
        "# ✅ Step 0: Restore Tuned Random Forest (if runtime restarted)\n",
        "# =============================\n",
        "from sklearn.ensemble import RandomForestClassifier\n",
        "from sklearn.model_selection import RandomizedSearchCV\n",
        "\n",
        "# Define smaller parameter space for faster tuning\n",
        "param_dist = {\n",
        "    'n_estimators': [100, 200, 300],\n",
        "    'max_depth': [10, 20, None],\n",
        "    'min_samples_split': [2, 5, 10],\n",
        "    'min_samples_leaf': [1, 2, 4]\n",
        "}\n",
        "\n",
        "rf = RandomForestClassifier(random_state=42, class_weight='balanced')\n",
        "\n",
        "random_search = RandomizedSearchCV(\n",
        "    estimator=rf,\n",
        "    param_distributions=param_dist,\n",
        "    n_iter=5,  # 5 random combos for faster run\n",
        "    cv=3,\n",
        "    scoring='accuracy',\n",
        "    n_jobs=-1,\n",
        "    random_state=42\n",
        ")\n",
        "\n",
        "# Fit on small subset for speed\n",
        "X_small = X_train.sample(frac=0.3, random_state=42)\n",
        "y_small = y_train.loc[X_small.index]\n",
        "\n",
        "random_search.fit(X_small, y_small)\n",
        "best_rf = random_search.best_estimator_\n",
        "\n",
        "print(\"✅ Tuned RandomForest Recreated\")\n",
        "print(\"Best Hyperparameters:\", random_search.best_params_)\n",
        "\n",
        "\n",
        "# =============================\n",
        "# 💡 Step 1: Feature Importance (from tuned Random Forest)\n",
        "# =============================\n",
        "import matplotlib.pyplot as plt\n",
        "import numpy as np\n",
        "\n",
        "feature_importances = best_rf.feature_importances_\n",
        "features = X.columns\n",
        "sorted_idx = np.argsort(feature_importances)[::-1]\n",
        "\n",
        "plt.figure(figsize=(10,6))\n",
        "plt.barh(range(10), feature_importances[sorted_idx][:10])\n",
        "plt.yticks(range(10), features[sorted_idx][:10])\n",
        "plt.xlabel(\"Feature Importance\")\n",
        "plt.title(\"Top 10 Important Features (Random Forest)\")\n",
        "plt.gca().invert_yaxis()\n",
        "plt.show()\n",
        "\n",
        "\n",
        "# =============================\n",
        "# 💡 Step 2: Try XGBoost Classifier\n",
        "# =============================\n",
        "from xgboost import XGBClassifier\n",
        "from sklearn.metrics import accuracy_score, confusion_matrix, classification_report\n",
        "\n",
        "xgb = XGBClassifier(\n",
        "    learning_rate=0.05,\n",
        "    n_estimators=300,\n",
        "    max_depth=6,\n",
        "    subsample=0.8,\n",
        "    colsample_bytree=0.8,\n",
        "    scale_pos_weight=len(y_train[y_train==0]) / len(y_train[y_train==1]),\n",
        "    random_state=42,\n",
        "    use_label_encoder=False,\n",
        "    eval_metric='logloss'\n",
        ")\n",
        "\n",
        "xgb.fit(X_train, y_train)\n",
        "y_pred_xgb = xgb.predict(X_test)\n",
        "\n",
        "print(\"\\n🌟 Accuracy (XGBoost):\", accuracy_score(y_test, y_pred_xgb))\n",
        "print(\"Confusion Matrix (XGBoost):\\n\", confusion_matrix(y_test, y_pred_xgb))\n",
        "print(\"Classification Report (XGBoost):\\n\", classification_report(y_test, y_pred_xgb))\n",
        "\n",
        "\n",
        "# =============================\n",
        "# 💡 Step 3: Try LightGBM Classifier\n",
        "# =============================\n",
        "from lightgbm import LGBMClassifier\n",
        "\n",
        "lgbm = LGBMClassifier(\n",
        "    learning_rate=0.05,\n",
        "    n_estimators=300,\n",
        "    num_leaves=31,\n",
        "    subsample=0.8,\n",
        "    colsample_bytree=0.8,\n",
        "    class_weight='balanced',\n",
        "    random_state=42\n",
        ")\n",
        "\n",
        "lgbm.fit(X_train, y_train)\n",
        "y_pred_lgbm = lgbm.predict(X_test)\n",
        "\n",
        "print(\"\\n🌟 Accuracy (LightGBM):\", accuracy_score(y_test, y_pred_lgbm))\n",
        "print(\"Confusion Matrix (LightGBM):\\n\", confusion_matrix(y_test, y_pred_lgbm))\n",
        "print(\"Classification Report (LightGBM):\\n\", classification_report(y_test, y_pred_lgbm))\n",
        "\n",
        "\n",
        "# =============================\n",
        "# 💡 Step 4: Ensemble - Stacking Classifier\n",
        "# =============================\n",
        "from sklearn.ensemble import StackingClassifier\n",
        "from sklearn.linear_model import LogisticRegression\n",
        "\n",
        "stack_model = StackingClassifier(\n",
        "    estimators=[\n",
        "        ('rf', best_rf),\n",
        "        ('xgb', xgb),\n",
        "        ('lgbm', lgbm)\n",
        "    ],\n",
        "    final_estimator=LogisticRegression(),\n",
        "    n_jobs=-1\n",
        ")\n",
        "\n",
        "stack_model.fit(X_train, y_train)\n",
        "y_pred_stack = stack_model.predict(X_test)\n",
        "\n",
        "print(\"\\n🌟 Accuracy (Stacked Ensemble):\", accuracy_score(y_test, y_pred_stack))\n",
        "print(\"Confusion Matrix (Stacked):\\n\", confusion_matrix(y_test, y_pred_stack))\n",
        "print(\"Classification Report (Stacked):\\n\", classification_report(y_test, y_pred_stack))\n",
        "\n",
        "\n",
        "# =============================\n",
        "# 💡 Step 5: Final Model Comparison Chart\n",
        "# =============================\n",
        "models = ['Baseline RF', 'Tuned RF', 'XGBoost', 'LightGBM', 'Stacked Ensemble']\n",
        "accuracies = [\n",
        "    0.8517,  # Baseline accuracy (from your earlier run)\n",
        "    accuracy_score(y_test, best_rf.predict(X_test)),\n",
        "    accuracy_score(y_test, y_pred_xgb),\n",
        "    accuracy_score(y_test, y_pred_lgbm),\n",
        "    accuracy_score(y_test, y_pred_stack)\n",
        "]\n",
        "\n",
        "plt.figure(figsize=(8,5))\n",
        "plt.bar(models, accuracies, color='skyblue')\n",
        "plt.title(\"Model Accuracy Comparison\")\n",
        "plt.ylabel(\"Accuracy\")\n",
        "plt.ylim(0.8, 0.9)\n",
        "for i, acc in enumerate(accuracies):\n",
        "    plt.text(i, acc + 0.002, f\"{acc:.3f}\", ha='center', fontsize=10)\n",
        "plt.show()\n"
      ],
      "metadata": {
        "colab": {
          "base_uri": "https://localhost:8080/",
          "height": 1000
        },
        "id": "mzOHC09Qtzc7",
        "outputId": "eb2f3b0f-7dc7-4e55-9ff9-90807d5d13d2"
      },
      "execution_count": 11,
      "outputs": [
        {
          "output_type": "stream",
          "name": "stdout",
          "text": [
            "✅ Tuned RandomForest Recreated\n",
            "Best Hyperparameters: {'n_estimators': 200, 'min_samples_split': 5, 'min_samples_leaf': 1, 'max_depth': 20}\n"
          ]
        },
        {
          "output_type": "display_data",
          "data": {
            "text/plain": [
              "<Figure size 1000x600 with 1 Axes>"
            ],
            "image/png": "[encoded data removed]"
          },
          "metadata": {}
        },
        {
          "output_type": "stream",
          "name": "stderr",
          "text": [
            "/usr/local/lib/python3.12/dist-packages/xgboost/training.py:183: UserWarning: [14:11:55] WARNING: /workspace/src/learner.cc:738: \n",
            "Parameters: { \"use_label_encoder\" } are not used.\n",
            "\n",
            "  bst.update(dtrain, iteration=i, fobj=obj)\n"
          ]
        },
        {
          "output_type": "stream",
          "name": "stdout",
          "text": [
            "\n",
            "🌟 Accuracy (XGBoost): 0.8130757596590128\n",
            "Confusion Matrix (XGBoost):\n",
            " [[18594  4078]\n",
            " [ 1360  5060]]\n",
            "Classification Report (XGBoost):\n",
            "               precision    recall  f1-score   support\n",
            "\n",
            "           0       0.93      0.82      0.87     22672\n",
            "           1       0.55      0.79      0.65      6420\n",
            "\n",
            "    accuracy                           0.81     29092\n",
            "   macro avg       0.74      0.80      0.76     29092\n",
            "weighted avg       0.85      0.81      0.82     29092\n",
            "\n",
            "[LightGBM] [Info] Number of positive: 25457, number of negative: 90911\n",
            "[LightGBM] [Info] Auto-choosing row-wise multi-threading, the overhead of testing was 0.011761 seconds.\n",
            "You can set `force_row_wise=true` to remove the overhead.\n",
            "And if memory is not enough, you can set `force_col_wise=true`.\n",
            "[LightGBM] [Info] Total Bins 2730\n",
            "[LightGBM] [Info] Number of data points in the train set: 116368, number of used features: 110\n",
            "[LightGBM] [Info] [binary:BoostFromScore]: pavg=0.500000 -> initscore=0.000000\n",
            "[LightGBM] [Info] Start training from score 0.000000\n",
            "\n",
            "🌟 Accuracy (LightGBM): 0.8084353086759246\n",
            "Confusion Matrix (LightGBM):\n",
            " [[18456  4216]\n",
            " [ 1357  5063]]\n",
            "Classification Report (LightGBM):\n",
            "               precision    recall  f1-score   support\n",
            "\n",
            "           0       0.93      0.81      0.87     22672\n",
            "           1       0.55      0.79      0.65      6420\n",
            "\n",
            "    accuracy                           0.81     29092\n",
            "   macro avg       0.74      0.80      0.76     29092\n",
            "weighted avg       0.85      0.81      0.82     29092\n",
            "\n"
          ]
        },
        {
          "output_type": "stream",
          "name": "stderr",
          "text": [
            "/usr/local/lib/python3.12/dist-packages/joblib/externals/loky/process_executor.py:782: UserWarning: A worker stopped while some jobs were given to the executor. This can be caused by a too short worker timeout or by a memory leak.\n",
            "  warnings.warn(\n"
          ]
        },
        {
          "output_type": "stream",
          "name": "stdout",
          "text": [
            "\n",
            "🌟 Accuracy (Stacked Ensemble): 0.8553554241715936\n",
            "Confusion Matrix (Stacked):\n",
            " [[21063  1609]\n",
            " [ 2599  3821]]\n",
            "Classification Report (Stacked):\n",
            "               precision    recall  f1-score   support\n",
            "\n",
            "           0       0.89      0.93      0.91     22672\n",
            "           1       0.70      0.60      0.64      6420\n",
            "\n",
            "    accuracy                           0.86     29092\n",
            "   macro avg       0.80      0.76      0.78     29092\n",
            "weighted avg       0.85      0.86      0.85     29092\n",
            "\n"
          ]
        },
        {
          "output_type": "display_data",
          "data": {
            "text/plain": [
              "<Figure size 800x500 with 1 Axes>"
            ],
            "image/png": "[encoded data removed]"
          },
          "metadata": {}
        }
      ]
    }
  ],
  "metadata": {
    "colab": {
      "provenance": [],
      "authorship_tag": "ABX9TyNezFpVTmSZ6NH4UlzrnW4J",
      "include_colab_link": true
    },
    "kernelspec": {
      "display_name": "Python 3",
      "name": "python3"
    },
    "language_info": {
      "name": "python"
    }
  },
  "nbformat": 4,
  "nbformat_minor": 0
}