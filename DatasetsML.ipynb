{
  "nbformat": 4,
  "nbformat_minor": 0,
  "metadata": {
    "colab": {
      "provenance": [],
      "mount_file_id": "14RAihvtElKXV0jOxmsQNS_k-6_v0glLP",
      "authorship_tag": "ABX9TyPokrIT4rS26aoU0w6H/i7I",
      "include_colab_link": true
    },
    "kernelspec": {
      "name": "python3",
      "display_name": "Python 3"
    },
    "language_info": {
      "name": "python"
    }
  },
  "cells": [
    {
      "cell_type": "markdown",
      "metadata": {
        "id": "view-in-github",
        "colab_type": "text"
      },
      "source": [
        "<a href=\"https://colab.research.google.com/github/jahnavimidde/VsemML/blob/main/DatasetsML.ipynb\" target=\"_parent\"><img src=\"https://colab.research.google.com/assets/colab-badge.svg\" alt=\"Open In Colab\"/></a>"
      ]
    },
    {
      "cell_type": "code",
      "execution_count": 4,
      "metadata": {
        "id": "oPNaqLVNcO7I",
        "colab": {
          "base_uri": "https://localhost:8080/"
        },
        "outputId": "75aaa08a-56b9-4566-fe14-748285907e83"
      },
      "outputs": [
        {
          "output_type": "stream",
          "name": "stdout",
          "text": [
            "     PassengerId  Survived  Pclass  \\\n",
            "0              1         0       3   \n",
            "1              2         1       1   \n",
            "2              3         1       3   \n",
            "3              4         1       1   \n",
            "4              5         0       3   \n",
            "..           ...       ...     ...   \n",
            "886          887         0       2   \n",
            "887          888         1       1   \n",
            "888          889         0       3   \n",
            "889          890         1       1   \n",
            "890          891         0       3   \n",
            "\n",
            "                                                  Name     Sex   Age  SibSp  \\\n",
            "0                              Braund, Mr. Owen Harris    male  22.0      1   \n",
            "1    Cumings, Mrs. John Bradley (Florence Briggs Th...  female  38.0      1   \n",
            "2                               Heikkinen, Miss. Laina  female  26.0      0   \n",
            "3         Futrelle, Mrs. Jacques Heath (Lily May Peel)  female  35.0      1   \n",
            "4                             Allen, Mr. William Henry    male  35.0      0   \n",
            "..                                                 ...     ...   ...    ...   \n",
            "886                              Montvila, Rev. Juozas    male  27.0      0   \n",
            "887                       Graham, Miss. Margaret Edith  female  19.0      0   \n",
            "888           Johnston, Miss. Catherine Helen \"Carrie\"  female   NaN      1   \n",
            "889                              Behr, Mr. Karl Howell    male  26.0      0   \n",
            "890                                Dooley, Mr. Patrick    male  32.0      0   \n",
            "\n",
            "     Parch            Ticket     Fare Cabin Embarked  \n",
            "0        0         A/5 21171   7.2500   NaN        S  \n",
            "1        0          PC 17599  71.2833   C85        C  \n",
            "2        0  STON/O2. 3101282   7.9250   NaN        S  \n",
            "3        0            113803  53.1000  C123        S  \n",
            "4        0            373450   8.0500   NaN        S  \n",
            "..     ...               ...      ...   ...      ...  \n",
            "886      0            211536  13.0000   NaN        S  \n",
            "887      0            112053  30.0000   B42        S  \n",
            "888      2        W./C. 6607  23.4500   NaN        S  \n",
            "889      0            111369  30.0000  C148        C  \n",
            "890      0            370376   7.7500   NaN        Q  \n",
            "\n",
            "[891 rows x 12 columns]\n",
            "<bound method DataFrame.sum of      PassengerId  Survived  Pclass   Name    Sex    Age  SibSp  Parch  Ticket  \\\n",
            "0          False     False   False  False  False  False  False  False   False   \n",
            "1          False     False   False  False  False  False  False  False   False   \n",
            "2          False     False   False  False  False  False  False  False   False   \n",
            "3          False     False   False  False  False  False  False  False   False   \n",
            "4          False     False   False  False  False  False  False  False   False   \n",
            "..           ...       ...     ...    ...    ...    ...    ...    ...     ...   \n",
            "886        False     False   False  False  False  False  False  False   False   \n",
            "887        False     False   False  False  False  False  False  False   False   \n",
            "888        False     False   False  False  False  False  False  False   False   \n",
            "889        False     False   False  False  False  False  False  False   False   \n",
            "890        False     False   False  False  False  False  False  False   False   \n",
            "\n",
            "      Fare  Cabin  Embarked  \n",
            "0    False   True     False  \n",
            "1    False  False     False  \n",
            "2    False   True     False  \n",
            "3    False  False     False  \n",
            "4    False   True     False  \n",
            "..     ...    ...       ...  \n",
            "886  False   True     False  \n",
            "887  False  False     False  \n",
            "888  False   True     False  \n",
            "889  False  False     False  \n",
            "890  False   True     False  \n",
            "\n",
            "[891 rows x 12 columns]>\n"
          ]
        },
        {
          "output_type": "stream",
          "name": "stderr",
          "text": [
            "/tmp/ipython-input-2684091815.py:4: FutureWarning: A value is trying to be set on a copy of a DataFrame or Series through chained assignment using an inplace method.\n",
            "The behavior will change in pandas 3.0. This inplace method will never work because the intermediate object on which we are setting values always behaves as a copy.\n",
            "\n",
            "For example, when doing 'df[col].method(value, inplace=True)', try using 'df.method({col: value}, inplace=True)' or df[col] = df[col].method(value) instead, to perform the operation inplace on the original object.\n",
            "\n",
            "\n",
            "  df['Age'].fillna(df['Age'].median(), inplace=True)  # Median is safer for skewed data\n",
            "/tmp/ipython-input-2684091815.py:5: FutureWarning: A value is trying to be set on a copy of a DataFrame or Series through chained assignment using an inplace method.\n",
            "The behavior will change in pandas 3.0. This inplace method will never work because the intermediate object on which we are setting values always behaves as a copy.\n",
            "\n",
            "For example, when doing 'df[col].method(value, inplace=True)', try using 'df.method({col: value}, inplace=True)' or df[col] = df[col].method(value) instead, to perform the operation inplace on the original object.\n",
            "\n",
            "\n",
            "  df['Fare'].fillna(df['Fare'].mean(), inplace=True)  # Mean\n"
          ]
        }
      ],
      "source": [
        "import pandas as pd\n",
        "df=pd.read_csv(\"titanic_train.csv\")\n",
        "print(df)\n",
        "df['Age'].fillna(df['Age'].median(), inplace=True)  # Median is safer for skewed data\n",
        "df['Fare'].fillna(df['Fare'].mean(), inplace=True)  # Mean\n",
        "df.ffill()\n",
        "print(df.isnull().sum)\n",
        "\n"
      ]
    },
    {
      "cell_type": "code",
      "source": [
        "#CONSTANT FEATURES\n",
        "from sklearn.model_selection import train_test_split\n",
        "[col for col in df.columns if df[col].isnull().sum()>0]\n",
        "X=df.drop('Survived',axis=1)\n",
        "X=pd.get_dummies(X,drop_first=True)\n",
        "y=df['Survived']\n",
        "X_train,X_test,y_train,y_test=train_test_split(X,y,test_size=0.2,random_state=0)\n",
        "constant_features=[features for features in X_train.columns if X_train[features].std()==0]\n",
        "print(len(constant_features))\n",
        "X_train.drop(columns=constant_features, inplace=True)\n",
        "X_test.drop(columns=constant_features, inplace=True)"
      ],
      "metadata": {
        "colab": {
          "base_uri": "https://localhost:8080/"
        },
        "id": "NB1nzkJQylKr",
        "outputId": "a8027e0a-8ed9-4b11-8908-c13f2de6af66"
      },
      "execution_count": 5,
      "outputs": [
        {
          "output_type": "stream",
          "name": "stdout",
          "text": [
            "311\n"
          ]
        }
      ]
    },
    {
      "cell_type": "code",
      "source": [
        "#quasi-constant features\n",
        "X = df.drop('Survived', axis=1)\n",
        "y = df['Survived']\n",
        "\n",
        "X_train, X_test, y_train, y_test = train_test_split(X, y, test_size=0.3, random_state=0)\n",
        "quasi_constant_features=[]\n",
        "for feature in X_train.columns:\n",
        "  predominant=(X_train[feature].value_counts()/float(len(X_train))).sort_values(ascending=False).values[0]\n",
        "  if(predominant>0.99):\n",
        "    quasi_constant_features.append(feature)\n",
        "print(len(quasi_constant_features))\n",
        "print(quasi_constant_features)\n",
        "X_train.drop(columns=quasi_constant_features, inplace=True)\n",
        "X_test.drop(columns=quasi_constant_features, inplace=True)"
      ],
      "metadata": {
        "colab": {
          "base_uri": "https://localhost:8080/"
        },
        "id": "elPRL86ryo-y",
        "outputId": "6660234b-94ee-4f1f-d0d1-3595d56c5e84"
      },
      "execution_count": 6,
      "outputs": [
        {
          "output_type": "stream",
          "name": "stdout",
          "text": [
            "0\n",
            "[]\n"
          ]
        }
      ]
    },
    {
      "cell_type": "code",
      "source": [
        "#duplicated features\n",
        "dup=[]\n",
        "for i in range(0,len(X_train.columns)):\n",
        "  col1=X_train.columns[i]\n",
        "  for col2 in X_train.columns[i+1:]:\n",
        "    if(X_train[col1].equals(X_train[col2])):\n",
        "      dup.append(col2)\n",
        "print(len(dup))\n",
        "print(dup)\n",
        "X_train.drop(columns=dup, inplace=True)\n",
        "X_test.drop(columns=dup, inplace=True)"
      ],
      "metadata": {
        "colab": {
          "base_uri": "https://localhost:8080/"
        },
        "id": "tX6piZ5WytLD",
        "outputId": "911b9030-211c-48c2-d4d1-989d394515a8"
      },
      "execution_count": 7,
      "outputs": [
        {
          "output_type": "stream",
          "name": "stdout",
          "text": [
            "0\n",
            "[]\n"
          ]
        }
      ]
    },
    {
      "cell_type": "code",
      "source": [
        "# Correlation\n",
        "grouped_feature_ls = []\n",
        "correlated_groups = []\n",
        "\n",
        "def correlation(dataset, threshold):\n",
        "    col_corr = set()\n",
        "    numeric_df = dataset.select_dtypes(include=['number'])  # Only numeric columns\n",
        "    col_matrix = numeric_df.corr()\n",
        "    for i in range(len(col_matrix.columns)):\n",
        "        for j in range(i):\n",
        "            if abs(col_matrix.iloc[i, j]\n",
        "                   ) > threshold:\n",
        "                colname = col_matrix.columns[i]\n",
        "                col_corr.add(colname)\n",
        "    return col_corr\n",
        "\n",
        "corr_features = correlation(df, 0.9)\n",
        "corr_final = set(corr_features)\n",
        "print(len(corr_final))\n",
        "X_train.drop(columns=corr_final, inplace=True)\n",
        "X_test.drop(columns=corr_final, inplace=True)"
      ],
      "metadata": {
        "colab": {
          "base_uri": "https://localhost:8080/"
        },
        "id": "rBJxCFFuywyp",
        "outputId": "c25260ff-c134-4c07-b7dc-4d11eb73bfb2"
      },
      "execution_count": 8,
      "outputs": [
        {
          "output_type": "stream",
          "name": "stdout",
          "text": [
            "0\n"
          ]
        }
      ]
    },
    {
      "cell_type": "code",
      "source": [
        "#Mutual Information\n",
        "from sklearn.feature_selection import mutual_info_classif, SelectKBest\n",
        "import pandas as pd\n",
        "\n",
        "X = df.drop('Survived', axis=1)\n",
        "X = pd.get_dummies(X, drop_first=True)\n",
        "y = df['Survived']\n",
        "X_train, X_test, y_train, y_test = train_test_split(X, y, test_size=0.3, random_state=0)\n",
        "\n",
        "mi_scores = mutual_info_classif(X.fillna(0), y)\n",
        "mi_scores = pd.Series(mi_scores, index=X.columns)\n",
        "mi_scores = mi_scores.sort_values(ascending=False)\n",
        "print(\"Mutual Information Scores:\\n\", mi_scores)\n",
        "\n",
        "X_train_encoded = pd.get_dummies(X_train, drop_first=True).fillna(0)\n",
        "sel_ = SelectKBest(mutual_info_classif, k=10).fit(X_train_encoded, y_train)\n",
        "\n",
        "top_features = X_train_encoded.columns[sel_.get_support()]\n",
        "print(\"\\nTop 10 Features:\\n\", top_features)"
      ],
      "metadata": {
        "colab": {
          "base_uri": "https://localhost:8080/"
        },
        "id": "ae4ITSt7y0DI",
        "outputId": "6a10f8d7-818a-4b34-c731-0014e6832bad"
      },
      "execution_count": 9,
      "outputs": [
        {
          "output_type": "stream",
          "name": "stdout",
          "text": [
            "Mutual Information Scores:\n",
            " Fare                                 0.142929\n",
            "Sex_male                             0.141331\n",
            "Pclass                               0.062980\n",
            "Name_Pinsky, Mrs. (Rosa)             0.051293\n",
            "Ticket_347076                        0.050191\n",
            "                                       ...   \n",
            "Ticket_19943                         0.000000\n",
            "Name_Leader, Dr. Alice (Farnham)     0.000000\n",
            "Name_Dahlberg, Miss. Gerda Ulrika    0.000000\n",
            "Name_Daly, Mr. Peter Denis           0.000000\n",
            "Ticket_12749                         0.000000\n",
            "Length: 1725, dtype: float64\n",
            "\n",
            "Top 10 Features:\n",
            " Index(['Pclass', 'Fare', 'Name_Harper, Rev. John',\n",
            "       'Name_Madsen, Mr. Fridtjof Arne', 'Name_Moss, Mr. Albert Johan',\n",
            "       'Name_Yasbeck, Mrs. Antoni (Selini Alexander)', 'Sex_male',\n",
            "       'Ticket_349217', 'Ticket_A/5 3902', 'Cabin_C50'],\n",
            "      dtype='object')\n"
          ]
        }
      ]
    },
    {
      "cell_type": "code",
      "source": [
        "#CHI SQUARE TEst\n",
        "from scipy.stats import chi2_contingency\n",
        "result=[]\n",
        "for feature in X_train.columns:\n",
        "  crosstab=pd.crosstab(X_train[feature],df['Survived'])\n",
        "  chi2_stat,p_val,dof,expected=chi2_contingency(crosstab)\n",
        "  if p_val<0.05:\n",
        "    result.append(feature)\n",
        "print(result)\n",
        "X_train.drop(columns=feature, inplace=True)\n",
        "X_test.drop(columns=feature, inplace=True)"
      ],
      "metadata": {
        "colab": {
          "base_uri": "https://localhost:8080/"
        },
        "id": "LPWkVS9Vy6iy",
        "outputId": "f1156c6a-ea07-4030-b47e-2f0e4fa7a425"
      },
      "execution_count": 10,
      "outputs": [
        {
          "output_type": "stream",
          "name": "stdout",
          "text": [
            "['Pclass', 'SibSp', 'Parch', 'Fare', 'Sex_male', 'Embarked_S']\n"
          ]
        }
      ]
    },
    {
      "cell_type": "code",
      "source": [
        "#Anova\n",
        "from sklearn.feature_selection import f_classif, SelectKBest\n",
        "anova_selector = SelectKBest(score_func=f_classif, k=10)\n",
        "anova_selector.fit(X_train, y_train)\n",
        "\n",
        "top_features = X_train.columns[anova_selector.get_support()]\n",
        "print(top_features)\n",
        "\n",
        "anova_scores = pd.Series(anova_selector.scores_, index=X_train.columns)\n",
        "anova_scores = anova_scores.sort_values(ascending=False)\n",
        "print(anova_scores.head(10))"
      ],
      "metadata": {
        "colab": {
          "base_uri": "https://localhost:8080/"
        },
        "id": "mt1ZCMZjzB80",
        "outputId": "06eda1fe-fe06-41e9-fabd-d8a241aa685d"
      },
      "execution_count": 11,
      "outputs": [
        {
          "output_type": "stream",
          "name": "stdout",
          "text": [
            "Index(['Pclass', 'Fare', 'Sex_male', 'Ticket_113760', 'Ticket_24160',\n",
            "       'Ticket_2666', 'Ticket_29106', 'Ticket_CA. 2343', 'Cabin_B96 B98',\n",
            "       'Cabin_E101'],\n",
            "      dtype='object')\n",
            "Sex_male           260.604149\n",
            "Pclass              78.681039\n",
            "Fare                34.103369\n",
            "Ticket_113760        4.767074\n",
            "Ticket_29106         4.767074\n",
            "Cabin_E101           4.767074\n",
            "Ticket_24160         4.767074\n",
            "Cabin_B96 B98        4.767074\n",
            "Ticket_2666          4.767074\n",
            "Ticket_CA. 2343      4.514871\n",
            "dtype: float64\n"
          ]
        },
        {
          "output_type": "stream",
          "name": "stderr",
          "text": [
            "/usr/local/lib/python3.11/dist-packages/sklearn/feature_selection/_univariate_selection.py:111: UserWarning: Features [   7    8   12   17   18   30   32   37   43   47   50   54   55   57\n",
            "   58   66   67   69   73   76   80   87   90   91   94  102  104  109\n",
            "  112  114  115  120  124  130  135  138  139  149  152  163  165  168\n",
            "  171  175  183  185  187  195  196  197  198  207  211  213  216  225\n",
            "  226  228  237  238  242  247  253  254  257  265  272  273  274  278\n",
            "  281  284  289  292  305  306  308  311  313  314  319  320  323  324\n",
            "  327  331  336  339  341  342  344  345  346  349  350  352  353  354\n",
            "  357  358  361  362  365  369  375  376  388  403  408  409  410  413\n",
            "  414  417  422  423  428  437  439  440  442  443  449  452  453  454\n",
            "  455  456  465  467  473  475  476  477  492  495  496  499  509  512\n",
            "  513  518  523  525  527  529  532  535  538  539  540  545  546  547\n",
            "  548  551  555  558  559  560  565  567  568  573  576  580  584  587\n",
            "  591  592  594  602  613  617  622  625  632  634  636  637  638  642\n",
            "  646  651  655  657  660  662  663  670  674  676  682  683  686  697\n",
            "  702  706  710  711  715  716  717  718  719  731  732  735  740  744\n",
            "  746  752  754  755  756  758  761  762  763  765  771  772  773  778\n",
            "  780  781  782  783  784  786  787  789  791  792  795  803  804  806\n",
            "  808  812  816  820  822  823  824  826  830  833  838  839  843  844\n",
            "  845  846  849  851  854  855  857  864  870  873  876  877  878  880\n",
            "  885  888  910  911  912  914  916  925  927  940  941  944  957  958\n",
            "  965  966  970  973  975  978  983  990  993  994  998 1004 1014 1019\n",
            " 1023 1026 1029 1032 1034 1036 1050 1051 1055 1063 1069 1070 1071 1077\n",
            " 1079 1081 1086 1087 1091 1093 1094 1095 1096 1099 1101 1104 1110 1121\n",
            " 1128 1130 1137 1138 1139 1144 1149 1153 1154 1157 1162 1169 1171 1175\n",
            " 1177 1190 1197 1202 1208 1211 1218 1219 1220 1223 1228 1230 1238 1241\n",
            " 1243 1244 1248 1250 1251 1254 1257 1259 1264 1267 1269 1270 1272 1274\n",
            " 1277 1285 1286 1294 1303 1306 1308 1309 1314 1322 1327 1329 1333 1335\n",
            " 1336 1339 1346 1347 1348 1353 1356 1362 1369 1374 1381 1385 1386 1387\n",
            " 1388 1397 1399 1401 1403 1404 1405 1406 1407 1410 1414 1417 1420 1423\n",
            " 1426 1427 1429 1439 1443 1446 1456 1461 1465 1468 1469 1492 1494 1495\n",
            " 1497 1498 1508 1513 1516 1518 1520 1521 1523 1525 1532 1538 1539 1541\n",
            " 1544 1545 1561 1564 1565 1583 1592 1599 1601 1605 1606 1609 1611 1613\n",
            " 1614 1617 1622 1627 1644 1648 1649 1652 1656 1657 1659 1667 1681 1685\n",
            " 1690 1700 1711 1716] are constant.\n",
            "  warnings.warn(\"Features %s are constant.\" % constant_features_idx, UserWarning)\n",
            "/usr/local/lib/python3.11/dist-packages/sklearn/feature_selection/_univariate_selection.py:112: RuntimeWarning: invalid value encountered in divide\n",
            "  f = msb / msw\n"
          ]
        }
      ]
    },
    {
      "cell_type": "code",
      "source": [
        "import pandas as pd\n",
        "df1=pd.read_csv(\"Santander Customer Satisfaction_train.csv\")\n",
        "print(df1)"
      ],
      "metadata": {
        "colab": {
          "base_uri": "https://localhost:8080/"
        },
        "id": "qsVc82JazI8W",
        "outputId": "9248b2e5-6112-4563-a813-fced3c869e76"
      },
      "execution_count": 12,
      "outputs": [
        {
          "output_type": "stream",
          "name": "stdout",
          "text": [
            "         ID  var3  var15  imp_ent_var16_ult1  imp_op_var39_comer_ult1  \\\n",
            "0         1     2     23                 0.0                      0.0   \n",
            "1         3     2     34                 0.0                      0.0   \n",
            "2         4     2     23                 0.0                      0.0   \n",
            "3         8     2     37                 0.0                    195.0   \n",
            "4        10     2     39                 0.0                      0.0   \n",
            "...     ...   ...    ...                 ...                      ...   \n",
            "9397  18886     2     23                 0.0                      0.0   \n",
            "9398  18891     2     35                 0.0                      0.0   \n",
            "9399  18896     2     48                 0.0                      0.0   \n",
            "9400  18898     2     65                 0.0                      0.0   \n",
            "9401  18901     2     23                 0.0                      0.0   \n",
            "\n",
            "      imp_op_var39_comer_ult3  imp_op_var40_comer_ult1  \\\n",
            "0                         0.0                      0.0   \n",
            "1                         0.0                      0.0   \n",
            "2                         0.0                      0.0   \n",
            "3                       195.0                      0.0   \n",
            "4                         0.0                      0.0   \n",
            "...                       ...                      ...   \n",
            "9397                      0.0                      0.0   \n",
            "9398                      0.0                      0.0   \n",
            "9399                      0.0                      0.0   \n",
            "9400                      0.0                      0.0   \n",
            "9401                      0.0                      0.0   \n",
            "\n",
            "      imp_op_var40_comer_ult3  imp_op_var40_efect_ult1  \\\n",
            "0                         0.0                        0   \n",
            "1                         0.0                        0   \n",
            "2                         0.0                        0   \n",
            "3                         0.0                        0   \n",
            "4                         0.0                        0   \n",
            "...                       ...                      ...   \n",
            "9397                      0.0                        0   \n",
            "9398                      0.0                        0   \n",
            "9399                      0.0                        0   \n",
            "9400                      0.0                        0   \n",
            "9401                      0.0                        0   \n",
            "\n",
            "      imp_op_var40_efect_ult3  ...  saldo_medio_var33_hace2  \\\n",
            "0                           0  ...                      0.0   \n",
            "1                           0  ...                      0.0   \n",
            "2                           0  ...                      0.0   \n",
            "3                           0  ...                      0.0   \n",
            "4                           0  ...                      0.0   \n",
            "...                       ...  ...                      ...   \n",
            "9397                        0  ...                      0.0   \n",
            "9398                        0  ...                      0.0   \n",
            "9399                        0  ...                      0.0   \n",
            "9400                        0  ...                      0.0   \n",
            "9401                        0  ...                      NaN   \n",
            "\n",
            "      saldo_medio_var33_hace3  saldo_medio_var33_ult1  saldo_medio_var33_ult3  \\\n",
            "0                         0.0                     0.0                     0.0   \n",
            "1                         0.0                     0.0                     0.0   \n",
            "2                         0.0                     0.0                     0.0   \n",
            "3                         0.0                     0.0                     0.0   \n",
            "4                         0.0                     0.0                     0.0   \n",
            "...                       ...                     ...                     ...   \n",
            "9397                      0.0                     0.0                     0.0   \n",
            "9398                      0.0                     0.0                     0.0   \n",
            "9399                      0.0                     0.0                     0.0   \n",
            "9400                      0.0                     0.0                     0.0   \n",
            "9401                      NaN                     NaN                     NaN   \n",
            "\n",
            "      saldo_medio_var44_hace2  saldo_medio_var44_hace3  \\\n",
            "0                         0.0                      0.0   \n",
            "1                         0.0                      0.0   \n",
            "2                         0.0                      0.0   \n",
            "3                         0.0                      0.0   \n",
            "4                         0.0                      0.0   \n",
            "...                       ...                      ...   \n",
            "9397                      0.0                      0.0   \n",
            "9398                      0.0                      0.0   \n",
            "9399                      0.0                      0.0   \n",
            "9400                      0.0                      0.0   \n",
            "9401                      NaN                      NaN   \n",
            "\n",
            "      saldo_medio_var44_ult1  saldo_medio_var44_ult3          var38  TARGET  \n",
            "0                        0.0                     0.0   39205.170000     0.0  \n",
            "1                        0.0                     0.0   49278.030000     0.0  \n",
            "2                        0.0                     0.0   67333.770000     0.0  \n",
            "3                        0.0                     0.0   64007.970000     0.0  \n",
            "4                        0.0                     0.0  117310.979016     0.0  \n",
            "...                      ...                     ...            ...     ...  \n",
            "9397                     0.0                     0.0   98191.050000     0.0  \n",
            "9398                     0.0                     0.0   79503.120000     0.0  \n",
            "9399                     0.0                     0.0  218267.520000     1.0  \n",
            "9400                     0.0                     0.0  210044.340000     0.0  \n",
            "9401                     NaN                     NaN            NaN     NaN  \n",
            "\n",
            "[9402 rows x 371 columns]\n"
          ]
        }
      ]
    },
    {
      "cell_type": "code",
      "source": [
        "#CONSTANT FEATURES\n",
        "from sklearn.model_selection import train_test_split\n",
        "[col for col in df1.columns if df1[col].isnull().sum()>0]\n",
        "X=df1.drop('TARGET',axis=1)\n",
        "X=pd.get_dummies(X,drop_first=True)\n",
        "y=df1['TARGET']\n",
        "X_train,X_test,y_train,y_test=train_test_split(X,y,test_size=0.2,random_state=0)\n",
        "constant_features=[features for features in X_train.columns if X_train[features].std()==0]\n",
        "print(len(constant_features))\n",
        "X_train.drop(columns=constant_features, inplace=True)\n",
        "X_test.drop(columns=constant_features, inplace=True)"
      ],
      "metadata": {
        "colab": {
          "base_uri": "https://localhost:8080/"
        },
        "id": "wN7lgKzszQ5w",
        "outputId": "e14374bc-d0b3-458b-f942-610dc8ed8b30"
      },
      "execution_count": 13,
      "outputs": [
        {
          "output_type": "stream",
          "name": "stdout",
          "text": [
            "85\n"
          ]
        }
      ]
    },
    {
      "cell_type": "code",
      "source": [
        "#quasi-constant features\n",
        "X = df1.drop('TARGET', axis=1)\n",
        "y = df1['TARGET']\n",
        "\n",
        "X_train, X_test, y_train, y_test = train_test_split(X, y, test_size=0.3, random_state=0)\n",
        "quasi_constant_features=[]\n",
        "for feature in X_train.columns:\n",
        "  predominant=(X_train[feature].value_counts()/float(len(X_train))).sort_values(ascending=False).values[0]\n",
        "  if(predominant>0.99):\n",
        "    quasi_constant_features.append(feature)\n",
        "print(len(quasi_constant_features))\n",
        "print(quasi_constant_features)\n",
        "X_train.drop(columns=quasi_constant_features, inplace=True)\n",
        "X_test.drop(columns=quasi_constant_features, inplace=True)"
      ],
      "metadata": {
        "colab": {
          "base_uri": "https://localhost:8080/"
        },
        "id": "6dg6sCHjzUSz",
        "outputId": "5704e4b0-ac9a-4077-a6c3-557d5a736f27"
      },
      "execution_count": 14,
      "outputs": [
        {
          "output_type": "stream",
          "name": "stdout",
          "text": [
            "218\n",
            "['imp_op_var40_comer_ult1', 'imp_op_var40_comer_ult3', 'imp_op_var40_efect_ult1', 'imp_op_var40_efect_ult3', 'imp_op_var40_ult1', 'imp_sal_var16_ult1', 'ind_var1', 'ind_var2_0', 'ind_var2', 'ind_var6_0', 'ind_var6', 'ind_var13_medio_0', 'ind_var13_medio', 'ind_var14', 'ind_var17_0', 'ind_var17', 'ind_var18_0', 'ind_var18', 'ind_var19', 'ind_var20_0', 'ind_var20', 'ind_var27_0', 'ind_var28_0', 'ind_var28', 'ind_var27', 'ind_var29_0', 'ind_var29', 'ind_var30_0', 'ind_var31_0', 'ind_var31', 'ind_var32_cte', 'ind_var32_0', 'ind_var32', 'ind_var33_0', 'ind_var33', 'ind_var34_0', 'ind_var34', 'ind_var40', 'ind_var41', 'ind_var39', 'ind_var44_0', 'ind_var44', 'ind_var46_0', 'ind_var46', 'num_var1', 'num_var6_0', 'num_var6', 'num_var13_medio_0', 'num_var13_medio', 'num_var14', 'num_var17_0', 'num_var17', 'num_var18_0', 'num_var18', 'num_var20_0', 'num_var20', 'num_op_var40_hace2', 'num_op_var40_hace3', 'num_op_var40_ult1', 'num_op_var40_ult3', 'num_var27_0', 'num_var28_0', 'num_var28', 'num_var27', 'num_var29_0', 'num_var29', 'num_var31_0', 'num_var31', 'num_var32_0', 'num_var32', 'num_var33_0', 'num_var33', 'num_var34_0', 'num_var34', 'num_var40', 'num_var41', 'num_var39', 'num_var44_0', 'num_var44', 'num_var46_0', 'num_var46', 'saldo_var1', 'saldo_var6', 'saldo_var13_medio', 'saldo_var14', 'saldo_var17', 'saldo_var18', 'saldo_var20', 'saldo_var28', 'saldo_var27', 'saldo_var29', 'saldo_var31', 'saldo_var32', 'saldo_var33', 'saldo_var34', 'saldo_var40', 'saldo_var41', 'saldo_var44', 'saldo_var46', 'delta_imp_amort_var18_1y3', 'delta_imp_amort_var34_1y3', 'delta_imp_aport_var17_1y3', 'delta_imp_aport_var33_1y3', 'delta_imp_compra_var44_1y3', 'delta_imp_reemb_var13_1y3', 'delta_imp_reemb_var17_1y3', 'delta_imp_reemb_var33_1y3', 'delta_imp_trasp_var17_in_1y3', 'delta_imp_trasp_var17_out_1y3', 'delta_imp_trasp_var33_in_1y3', 'delta_imp_trasp_var33_out_1y3', 'delta_imp_venta_var44_1y3', 'delta_num_aport_var17_1y3', 'delta_num_aport_var33_1y3', 'delta_num_compra_var44_1y3', 'delta_num_reemb_var13_1y3', 'delta_num_reemb_var17_1y3', 'delta_num_reemb_var33_1y3', 'delta_num_trasp_var17_in_1y3', 'delta_num_trasp_var17_out_1y3', 'delta_num_trasp_var33_in_1y3', 'delta_num_trasp_var33_out_1y3', 'delta_num_venta_var44_1y3', 'imp_amort_var18_hace3', 'imp_amort_var18_ult1', 'imp_amort_var34_hace3', 'imp_amort_var34_ult1', 'imp_aport_var13_ult1', 'imp_aport_var17_hace3', 'imp_aport_var17_ult1', 'imp_aport_var33_hace3', 'imp_aport_var33_ult1', 'imp_var7_emit_ult1', 'imp_var7_recib_ult1', 'imp_compra_var44_hace3', 'imp_compra_var44_ult1', 'imp_reemb_var13_hace3', 'imp_reemb_var13_ult1', 'imp_reemb_var17_hace3', 'imp_reemb_var17_ult1', 'imp_reemb_var33_hace3', 'imp_reemb_var33_ult1', 'imp_trasp_var17_in_hace3', 'imp_trasp_var17_in_ult1', 'imp_trasp_var17_out_hace3', 'imp_trasp_var17_out_ult1', 'imp_trasp_var33_in_hace3', 'imp_trasp_var33_in_ult1', 'imp_trasp_var33_out_hace3', 'imp_trasp_var33_out_ult1', 'imp_venta_var44_hace3', 'imp_venta_var44_ult1', 'ind_var7_emit_ult1', 'ind_var7_recib_ult1', 'num_var2_0_ult1', 'num_var2_ult1', 'num_aport_var13_ult1', 'num_aport_var17_hace3', 'num_aport_var17_ult1', 'num_aport_var33_hace3', 'num_aport_var33_ult1', 'num_var7_emit_ult1', 'num_var7_recib_ult1', 'num_compra_var44_hace3', 'num_compra_var44_ult1', 'num_meses_var13_largo_ult3', 'num_meses_var13_medio_ult3', 'num_meses_var17_ult3', 'num_meses_var29_ult3', 'num_meses_var33_ult3', 'num_meses_var44_ult3', 'num_op_var40_comer_ult1', 'num_op_var40_comer_ult3', 'num_op_var40_efect_ult1', 'num_op_var40_efect_ult3', 'num_reemb_var13_hace3', 'num_reemb_var13_ult1', 'num_reemb_var17_hace3', 'num_reemb_var17_ult1', 'num_reemb_var33_hace3', 'num_reemb_var33_ult1', 'num_sal_var16_ult1', 'num_trasp_var17_in_hace3', 'num_trasp_var17_in_ult1', 'num_trasp_var17_out_hace3', 'num_trasp_var17_out_ult1', 'num_trasp_var33_in_hace3', 'num_trasp_var33_in_ult1', 'num_trasp_var33_out_hace3', 'num_trasp_var33_out_ult1', 'num_venta_var44_hace3', 'num_venta_var44_ult1', 'saldo_var2_ult1', 'saldo_medio_var8_hace3', 'saldo_medio_var13_largo_hace2', 'saldo_medio_var13_largo_hace3', 'saldo_medio_var13_largo_ult1', 'saldo_medio_var13_largo_ult3', 'saldo_medio_var13_medio_hace2', 'saldo_medio_var13_medio_hace3', 'saldo_medio_var13_medio_ult1', 'saldo_medio_var13_medio_ult3', 'saldo_medio_var17_hace2', 'saldo_medio_var17_hace3', 'saldo_medio_var17_ult1', 'saldo_medio_var17_ult3', 'saldo_medio_var29_hace2', 'saldo_medio_var29_hace3', 'saldo_medio_var29_ult1', 'saldo_medio_var29_ult3', 'saldo_medio_var33_hace2', 'saldo_medio_var33_hace3', 'saldo_medio_var33_ult1', 'saldo_medio_var33_ult3', 'saldo_medio_var44_hace2', 'saldo_medio_var44_hace3', 'saldo_medio_var44_ult1', 'saldo_medio_var44_ult3']\n"
          ]
        }
      ]
    },
    {
      "cell_type": "code",
      "source": [
        "#duplicated features\n",
        "dup=[]\n",
        "for i in range(0,len(X_train.columns)):\n",
        "  col1=X_train.columns[i]\n",
        "  for col2 in X_train.columns[i+1:]:\n",
        "    if(X_train[col1].equals(X_train[col2])):\n",
        "      dup.append(col2)\n",
        "print(len(dup))\n",
        "print(dup)\n",
        "X_train.drop(columns=dup, inplace=True)\n",
        "X_test.drop(columns=dup, inplace=True)"
      ],
      "metadata": {
        "colab": {
          "base_uri": "https://localhost:8080/"
        },
        "id": "Uc51D_RhzvY5",
        "outputId": "2e683966-33f2-496a-9e7f-2a6be8ba9840"
      },
      "execution_count": 15,
      "outputs": [
        {
          "output_type": "stream",
          "name": "stdout",
          "text": [
            "8\n",
            "['ind_var26', 'ind_var25', 'ind_var37', 'num_var40_0', 'num_var26', 'num_var25', 'num_var37', 'delta_num_aport_var13_1y3']\n"
          ]
        }
      ]
    },
    {
      "cell_type": "code",
      "source": [
        "# Correlation\n",
        "grouped_feature_ls = []\n",
        "correlated_groups = []\n",
        "\n",
        "def correlation(dataset, threshold):\n",
        "    col_corr = set()\n",
        "    numeric_df = dataset.select_dtypes(include=['number'])\n",
        "    col_matrix = numeric_df.corr()\n",
        "    for i in range(len(col_matrix.columns)):\n",
        "        for j in range(i):\n",
        "            if abs(col_matrix.iloc[i, j]) > threshold:\n",
        "                colname = col_matrix.columns[i]\n",
        "                col_corr.add(colname)\n",
        "    return col_corr\n",
        "\n",
        "corr_features = correlation(df1, 0.9)\n",
        "corr_final = set(corr_features)\n",
        "print(len(corr_final))\n",
        "\n",
        "X_train.drop(columns=corr_final, inplace=True, errors='ignore')\n",
        "X_test.drop(columns=corr_final, inplace=True, errors='ignore')"
      ],
      "metadata": {
        "colab": {
          "base_uri": "https://localhost:8080/"
        },
        "id": "7xRtzFlez0NC",
        "outputId": "3a9722a7-0ccb-4cea-984a-2ba52e412146"
      },
      "execution_count": 16,
      "outputs": [
        {
          "output_type": "stream",
          "name": "stdout",
          "text": [
            "155\n"
          ]
        }
      ]
    },
    {
      "cell_type": "code",
      "source": [
        "#Mutual Information\n",
        "from sklearn.feature_selection import mutual_info_classif, SelectKBest\n",
        "from sklearn.model_selection import train_test_split\n",
        "import pandas as pd\n",
        "\n",
        "df1 = df1.dropna(subset=['TARGET'])\n",
        "X = df1.drop('TARGET', axis=1)\n",
        "X = pd.get_dummies(X, drop_first=True)\n",
        "y = df1['TARGET']\n",
        "\n",
        "X_train, X_test, y_train, y_test = train_test_split(X, y, test_size=0.3, random_state=0)\n",
        "\n",
        "mi_scores = mutual_info_classif(X.fillna(0), y)\n",
        "mi_scores = pd.Series(mi_scores, index=X.columns)\n",
        "mi_scores = mi_scores.sort_values(ascending=False)\n",
        "print(\"Mutual Information Scores:\\n\", mi_scores)\n",
        "\n",
        "X_train_encoded = pd.get_dummies(X_train, drop_first=True).fillna(0)\n",
        "sel_ = SelectKBest(mutual_info_classif, k=10).fit(X_train_encoded, y_train)\n",
        "\n",
        "top_features = X_train_encoded.columns[sel_.get_support()]\n",
        "print(\"\\nTop 10 Features:\\n\", top_features)\n"
      ],
      "metadata": {
        "colab": {
          "base_uri": "https://localhost:8080/"
        },
        "id": "AbUrvHpez6vL",
        "outputId": "652a7277-e78c-4261-8712-88ba2bd24b61"
      },
      "execution_count": 17,
      "outputs": [
        {
          "output_type": "stream",
          "name": "stdout",
          "text": [
            "Mutual Information Scores:\n",
            " var15                           0.014898\n",
            "saldo_var30                     0.010473\n",
            "num_meses_var5_ult3             0.009795\n",
            "ind_var30                       0.009510\n",
            "saldo_medio_var5_ult3           0.009383\n",
            "                                  ...   \n",
            "saldo_medio_var8_ult3           0.000000\n",
            "ind_var1                        0.000000\n",
            "saldo_medio_var13_medio_ult1    0.000000\n",
            "imp_op_var40_comer_ult1         0.000000\n",
            "imp_op_var39_comer_ult3         0.000000\n",
            "Length: 370, dtype: float64\n",
            "\n",
            "Top 10 Features:\n",
            " Index(['var15', 'ind_var30', 'num_var5', 'num_var30', 'num_var42',\n",
            "       'saldo_var30', 'num_meses_var5_ult3', 'saldo_medio_var5_hace3',\n",
            "       'saldo_medio_var5_ult1', 'saldo_medio_var5_ult3'],\n",
            "      dtype='object')\n"
          ]
        }
      ]
    },
    {
      "cell_type": "code",
      "source": [
        "#Anova\n",
        "from sklearn.feature_selection import f_classif, SelectKBest\n",
        "anova_selector = SelectKBest(score_func=f_classif, k=10)\n",
        "anova_selector.fit(X_train, y_train)\n",
        "\n",
        "top_features = X_train.columns[anova_selector.get_support()]\n",
        "print(top_features)\n",
        "\n",
        "anova_scores = pd.Series(anova_selector.scores_, index=X_train.columns)\n",
        "anova_scores = anova_scores.sort_values(ascending=False)\n",
        "print(anova_scores.head(10))"
      ],
      "metadata": {
        "colab": {
          "base_uri": "https://localhost:8080/"
        },
        "id": "-AE_W6sr0Jha",
        "outputId": "0697a408-70a9-4863-b620-9ce1abbaab87"
      },
      "execution_count": 18,
      "outputs": [
        {
          "output_type": "stream",
          "name": "stdout",
          "text": [
            "Index(['var15', 'ind_var5', 'ind_var8_0', 'ind_var30', 'num_var5',\n",
            "       'num_var8_0', 'num_var30', 'num_var42', 'var36', 'num_meses_var5_ult3'],\n",
            "      dtype='object')\n",
            "num_meses_var5_ult3    96.932039\n",
            "ind_var30              88.168061\n",
            "num_var30              87.714275\n",
            "ind_var5               80.326183\n",
            "num_var5               77.908219\n",
            "num_var42              71.470667\n",
            "var15                  67.722201\n",
            "var36                  39.709405\n",
            "num_var8_0             29.381055\n",
            "ind_var8_0             29.381055\n",
            "dtype: float64\n"
          ]
        },
        {
          "output_type": "stream",
          "name": "stderr",
          "text": [
            "/usr/local/lib/python3.11/dist-packages/sklearn/feature_selection/_univariate_selection.py:111: UserWarning: Features [ 22  23  37  38  44  45  57  58  59  60  72  73  81  85  86 103 104 110\n",
            " 111 132 133 134 135 146 147 156 162 163 171 175 180 181 187 190 193 195\n",
            " 196 202 203 205 206 207 214 215 217 218 219 221 222 223 224 231 235 237\n",
            " 238 239 240 243 245 246 247 248 249 250 251 253 262 263 270 286 304 306\n",
            " 307 308 309 314 316 317 318 319 320 321 322 328 349 350 351 352 358] are constant.\n",
            "  warnings.warn(\"Features %s are constant.\" % constant_features_idx, UserWarning)\n",
            "/usr/local/lib/python3.11/dist-packages/sklearn/feature_selection/_univariate_selection.py:112: RuntimeWarning: invalid value encountered in divide\n",
            "  f = msb / msw\n"
          ]
        }
      ]
    },
    {
      "cell_type": "code",
      "source": [
        "import pandas as pd\n",
        "df3=pd.read_csv(\"house_price_train.csv\")\n",
        "print(df3)"
      ],
      "metadata": {
        "colab": {
          "base_uri": "https://localhost:8080/"
        },
        "id": "VT0FFIlu0atC",
        "outputId": "f8efe36e-36a7-4a02-a0c8-e4d8f3caec02"
      },
      "execution_count": 19,
      "outputs": [
        {
          "output_type": "stream",
          "name": "stdout",
          "text": [
            "        Id  MSSubClass MSZoning  LotFrontage  LotArea Street Alley LotShape  \\\n",
            "0        1          60       RL         65.0     8450   Pave   NaN      Reg   \n",
            "1        2          20       RL         80.0     9600   Pave   NaN      Reg   \n",
            "2        3          60       RL         68.0    11250   Pave   NaN      IR1   \n",
            "3        4          70       RL         60.0     9550   Pave   NaN      IR1   \n",
            "4        5          60       RL         84.0    14260   Pave   NaN      IR1   \n",
            "...    ...         ...      ...          ...      ...    ...   ...      ...   \n",
            "1455  1456          60       RL         62.0     7917   Pave   NaN      Reg   \n",
            "1456  1457          20       RL         85.0    13175   Pave   NaN      Reg   \n",
            "1457  1458          70       RL         66.0     9042   Pave   NaN      Reg   \n",
            "1458  1459          20       RL         68.0     9717   Pave   NaN      Reg   \n",
            "1459  1460          20       RL         75.0     9937   Pave   NaN      Reg   \n",
            "\n",
            "     LandContour Utilities  ... PoolArea PoolQC  Fence MiscFeature MiscVal  \\\n",
            "0            Lvl    AllPub  ...        0    NaN    NaN         NaN       0   \n",
            "1            Lvl    AllPub  ...        0    NaN    NaN         NaN       0   \n",
            "2            Lvl    AllPub  ...        0    NaN    NaN         NaN       0   \n",
            "3            Lvl    AllPub  ...        0    NaN    NaN         NaN       0   \n",
            "4            Lvl    AllPub  ...        0    NaN    NaN         NaN       0   \n",
            "...          ...       ...  ...      ...    ...    ...         ...     ...   \n",
            "1455         Lvl    AllPub  ...        0    NaN    NaN         NaN       0   \n",
            "1456         Lvl    AllPub  ...        0    NaN  MnPrv         NaN       0   \n",
            "1457         Lvl    AllPub  ...        0    NaN  GdPrv        Shed    2500   \n",
            "1458         Lvl    AllPub  ...        0    NaN    NaN         NaN       0   \n",
            "1459         Lvl    AllPub  ...        0    NaN    NaN         NaN       0   \n",
            "\n",
            "     MoSold YrSold  SaleType  SaleCondition  SalePrice  \n",
            "0         2   2008        WD         Normal     208500  \n",
            "1         5   2007        WD         Normal     181500  \n",
            "2         9   2008        WD         Normal     223500  \n",
            "3         2   2006        WD        Abnorml     140000  \n",
            "4        12   2008        WD         Normal     250000  \n",
            "...     ...    ...       ...            ...        ...  \n",
            "1455      8   2007        WD         Normal     175000  \n",
            "1456      2   2010        WD         Normal     210000  \n",
            "1457      5   2010        WD         Normal     266500  \n",
            "1458      4   2010        WD         Normal     142125  \n",
            "1459      6   2008        WD         Normal     147500  \n",
            "\n",
            "[1460 rows x 81 columns]\n"
          ]
        }
      ]
    },
    {
      "cell_type": "code",
      "source": [
        "#CONSTANT FEATURES\n",
        "from sklearn.model_selection import train_test_split\n",
        "[col for col in df3.columns if df3[col].isnull().sum()>0]\n",
        "X=df3.drop('SalePrice',axis=1)\n",
        "X=pd.get_dummies(X,drop_first=True)\n",
        "y=df3['SalePrice']\n",
        "X_train,X_test,y_train,y_test=train_test_split(X,y,test_size=0.2,random_state=0)\n",
        "constant_features=[features for features in X_train.columns if X_train[features].std()==0]\n",
        "print(len(constant_features))\n",
        "X_train.drop(columns=constant_features, inplace=True)\n",
        "X_test.drop(columns=constant_features, inplace=True)"
      ],
      "metadata": {
        "colab": {
          "base_uri": "https://localhost:8080/"
        },
        "id": "Sb3-jdTv0cTP",
        "outputId": "fb5bc2b1-d5d0-437b-936a-bf8c4e23b2c5"
      },
      "execution_count": 20,
      "outputs": [
        {
          "output_type": "stream",
          "name": "stdout",
          "text": [
            "4\n"
          ]
        }
      ]
    },
    {
      "cell_type": "code",
      "source": [
        "#quasi-constant features\n",
        "X = df3.drop('SalePrice', axis=1)\n",
        "y = df3['SalePrice']\n",
        "\n",
        "X_train, X_test, y_train, y_test = train_test_split(X, y, test_size=0.3, random_state=0)\n",
        "quasi_constant_features=[]\n",
        "for feature in X_train.columns:\n",
        "  predominant=(X_train[feature].value_counts()/float(len(X_train))).sort_values(ascending=False).values[0]\n",
        "  if(predominant>0.99):\n",
        "    quasi_constant_features.append(feature)\n",
        "print(len(quasi_constant_features))\n",
        "print(quasi_constant_features)\n",
        "X_train.drop(columns=quasi_constant_features, inplace=True)\n",
        "X_test.drop(columns=quasi_constant_features, inplace=True)"
      ],
      "metadata": {
        "colab": {
          "base_uri": "https://localhost:8080/"
        },
        "id": "FDzmLbmQ0h8V",
        "outputId": "655dbaa5-9b24-4847-c8d4-93f9672e7974"
      },
      "execution_count": 21,
      "outputs": [
        {
          "output_type": "stream",
          "name": "stdout",
          "text": [
            "4\n",
            "['Street', 'Utilities', 'Condition2', 'PoolArea']\n"
          ]
        }
      ]
    },
    {
      "cell_type": "code",
      "source": [
        "#duplicated features\n",
        "dup=[]\n",
        "for i in range(0,len(X_train.columns)):\n",
        "  col1=X_train.columns[i]\n",
        "  for col2 in X_train.columns[i+1:]:\n",
        "    if(X_train[col1].equals(X_train[col2])):\n",
        "      dup.append(col2)\n",
        "print(len(dup))\n",
        "print(dup)\n",
        "X_train.drop(columns=dup, inplace=True)\n",
        "X_test.drop(columns=dup, inplace=True)"
      ],
      "metadata": {
        "colab": {
          "base_uri": "https://localhost:8080/"
        },
        "id": "iIN3OQwf0kvT",
        "outputId": "9489a97f-7e19-43b6-e724-a48a30164d34"
      },
      "execution_count": 22,
      "outputs": [
        {
          "output_type": "stream",
          "name": "stdout",
          "text": [
            "0\n",
            "[]\n"
          ]
        }
      ]
    },
    {
      "cell_type": "code",
      "source": [
        "# Correlation\n",
        "grouped_feature_ls = []\n",
        "correlated_groups = []\n",
        "\n",
        "def correlation(dataset, threshold):\n",
        "    col_corr = set()\n",
        "    numeric_df = dataset.select_dtypes(include=['number'])\n",
        "    col_matrix = numeric_df.corr()\n",
        "    for i in range(len(col_matrix.columns)):\n",
        "        for j in range(i):\n",
        "            if abs(col_matrix.iloc[i, j]) > threshold:\n",
        "                colname = col_matrix.columns[i]\n",
        "                col_corr.add(colname)\n",
        "    return col_corr\n",
        "\n",
        "corr_features = correlation(df3, 0.9)\n",
        "corr_final = set(corr_features)\n",
        "print(len(corr_final))\n",
        "\n",
        "X_train.drop(columns=corr_final, inplace=True, errors='ignore')\n",
        "X_test.drop(columns=corr_final, inplace=True, errors='ignore')"
      ],
      "metadata": {
        "colab": {
          "base_uri": "https://localhost:8080/"
        },
        "id": "aXXro1qB0pSC",
        "outputId": "ab785a1b-3a32-41fe-b3f9-61c7168e520a"
      },
      "execution_count": 23,
      "outputs": [
        {
          "output_type": "stream",
          "name": "stdout",
          "text": [
            "0\n"
          ]
        }
      ]
    },
    {
      "cell_type": "code",
      "source": [
        "#Mutual Information\n",
        "from sklearn.feature_selection import mutual_info_classif, SelectKBest\n",
        "from sklearn.model_selection import train_test_split\n",
        "import pandas as pd\n",
        "\n",
        "df3 = df3.dropna(subset=['SalePrice'])\n",
        "X = df3.drop('SalePrice', axis=1)\n",
        "X = pd.get_dummies(X, drop_first=True)\n",
        "y = df3['SalePrice']\n",
        "\n",
        "X_train, X_test, y_train, y_test = train_test_split(X, y, test_size=0.3, random_state=0)\n",
        "\n",
        "mi_scores = mutual_info_classif(X.fillna(0), y)\n",
        "mi_scores = pd.Series(mi_scores, index=X.columns)\n",
        "mi_scores = mi_scores.sort_values(ascending=False)\n",
        "print(\"Mutual Information Scores:\\n\", mi_scores)\n",
        "\n",
        "X_train_encoded = pd.get_dummies(X_train, drop_first=True).fillna(0)\n",
        "sel_ = SelectKBest(mutual_info_classif, k=10).fit(X_train_encoded, y_train)\n",
        "\n",
        "top_features = X_train_encoded.columns[sel_.get_support()]\n",
        "print(\"\\nTop 10 Features:\\n\", top_features)"
      ],
      "metadata": {
        "colab": {
          "base_uri": "https://localhost:8080/"
        },
        "id": "JEDmt65E0yD6",
        "outputId": "2b944bce-2647-4470-fd5b-5a4651c252b7"
      },
      "execution_count": 24,
      "outputs": [
        {
          "output_type": "stream",
          "name": "stdout",
          "text": [
            "Mutual Information Scores:\n",
            " Street_Pave              3.334665\n",
            "Condition2_Norm          3.193806\n",
            "RoofMatl_CompShg         3.044214\n",
            "KitchenAbvGr             2.871722\n",
            "Heating_GasA             2.856910\n",
            "                           ...   \n",
            "MiscFeature_TenC         0.000000\n",
            "MiscFeature_Shed         0.000000\n",
            "SaleType_Oth             0.000000\n",
            "SaleCondition_AdjLand    0.000000\n",
            "SaleCondition_Alloca     0.000000\n",
            "Length: 245, dtype: float64\n",
            "\n",
            "Top 10 Features:\n",
            " Index(['KitchenAbvGr', 'Street_Pave', 'Condition2_Norm', 'RoofMatl_CompShg',\n",
            "       'Heating_GasA', 'CentralAir_Y', 'GarageQual_TA', 'GarageCond_TA',\n",
            "       'PavedDrive_Y', 'SaleType_WD'],\n",
            "      dtype='object')\n"
          ]
        }
      ]
    },
    {
      "cell_type": "code",
      "source": [
        "#Anova f_regression\n",
        "from sklearn.feature_selection import f_regression, SelectKBest\n",
        "import pandas as pd\n",
        "\n",
        "X_train = X_train.fillna(X_train.mean())\n",
        "X_test = X_test.fillna(X_test.mean())\n",
        "\n",
        "selector = SelectKBest(score_func=f_regression, k=10)\n",
        "selector.fit(X_train, y_train)\n",
        "\n",
        "top_features = X_train.columns[selector.get_support()]\n",
        "print(\"\\nTop 10 Features (f_regression):\\n\", top_features)\n",
        "\n",
        "scores = pd.Series(selector.scores_, index=X_train.columns)\n",
        "scores = scores.sort_values(ascending=False)\n",
        "print(\"\\nRegression Feature Scores:\\n\", scores.head(10))"
      ],
      "metadata": {
        "colab": {
          "base_uri": "https://localhost:8080/"
        },
        "id": "H90mrZH504k1",
        "outputId": "92d04a45-ef8b-409b-e32a-b279365595f7"
      },
      "execution_count": 25,
      "outputs": [
        {
          "output_type": "stream",
          "name": "stdout",
          "text": [
            "\n",
            "Top 10 Features (f_regression):\n",
            " Index(['OverallQual', 'TotalBsmtSF', '1stFlrSF', 'GrLivArea', 'FullBath',\n",
            "       'TotRmsAbvGrd', 'GarageCars', 'GarageArea', 'ExterQual_TA',\n",
            "       'KitchenQual_TA'],\n",
            "      dtype='object')\n",
            "\n",
            "Regression Feature Scores:\n",
            " OverallQual       1628.570495\n",
            "GrLivArea         1131.879650\n",
            "GarageCars         758.024880\n",
            "GarageArea         727.175552\n",
            "TotalBsmtSF        654.341155\n",
            "1stFlrSF           605.576313\n",
            "ExterQual_TA       499.122655\n",
            "FullBath           497.954582\n",
            "TotRmsAbvGrd       431.845019\n",
            "KitchenQual_TA     376.161106\n",
            "dtype: float64\n"
          ]
        }
      ]
    }
  ]
}