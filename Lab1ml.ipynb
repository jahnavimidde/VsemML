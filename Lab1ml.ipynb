{
  "nbformat": 4,
  "nbformat_minor": 0,
  "metadata": {
    "colab": {
      "provenance": [],
      "authorship_tag": "ABX9TyMjMKud8ShsoetYDlkdZtKA",
      "include_colab_link": true
    },
    "kernelspec": {
      "name": "python3",
      "display_name": "Python 3"
    },
    "language_info": {
      "name": "python"
    }
  },
  "cells": [
    {
      "cell_type": "markdown",
      "metadata": {
        "id": "view-in-github",
        "colab_type": "text"
      },
      "source": [
        "<a href=\"https://colab.research.google.com/github/jahnavimidde/VsemML/blob/main/Lab1ml.ipynb\" target=\"_parent\"><img src=\"https://colab.research.google.com/assets/colab-badge.svg\" alt=\"Open In Colab\"/></a>"
      ]
    },
    {
      "cell_type": "code",
      "execution_count": null,
      "metadata": {
        "colab": {
          "base_uri": "https://localhost:8080/"
        },
        "id": "zhYssBY7fEI5",
        "outputId": "0910a736-eeb2-4532-d700-b58f7cb59730"
      },
      "outputs": [
        {
          "output_type": "stream",
          "name": "stdout",
          "text": [
            "0    A,\n",
            "1     B\n",
            "2     C\n",
            "dtype: object\n"
          ]
        }
      ],
      "source": [
        "import pandas as pd\n",
        "s=pd.Series(['A,','B','C'])\n",
        "print(s)\n"
      ]
    },
    {
      "cell_type": "code",
      "source": [
        "\"\"\"9. Create the following DataFrame Sales containing\n",
        "year wise sales figures for five sales persons in INR.\n",
        "Use the years as column labels, and sales person\n",
        "names as row labels.\n",
        "\n",
        "2014 2015 2016 2017\n",
        "Madhu 100.5 12000 20000 50000\n",
        "Kusum 150.8 18000 50000 60000\n",
        "Kinshuk 200.9 22000 70000 70000\n",
        "Ankit 30000 30000 100000 80000\n",
        "Shruti 40000 45000 125000 90000\"\"\"\n",
        "\n",
        "\n",
        "import pandas as pd\n",
        "df=pd.DataFrame({2014:[1,2,3,4,5],2015:[1,12.3,45.5,78273,56],2016:[1,3,7,44,33],2017:[1,12.3,45.5,78273,56],2018:[1,3,7,44,33]},index=['madhu','kusum','john','Ankit','shruthi'])\n",
        "print(df)\n",
        "\n",
        "\"\"\"10. Use the DataFrame created in Question 9 above to\n",
        "do the following:\n",
        "a) Display the row labels of Sales.\n",
        "b) Display the column labels of Sales.\n",
        "c) Display the data types of each column of Sales.\n",
        "d) Display the dimensions, shape, size and values\n",
        "of Sales.\n",
        "e) Display the last two rows of Sales.\n",
        "f) Display the first two columns of Sales.\"\"\"\n",
        "\n",
        "\n",
        "\n",
        "print(df.index)\n",
        "print(df.columns)\n",
        "print(df.dtypes)\n",
        "\n",
        "print(df.ndim)\n",
        "print(df.shape)\n",
        "print(df.size)\n",
        "print(df.values)\n",
        "print(df.tail(2))\n",
        "print(df.iloc[:,:2])\n",
        "\n",
        "\n",
        "\n",
        "\"\"\"g) Create a dictionary using the following data. Use\n",
        "this dictionary to create a DataFrame Sales2.\n",
        "\n",
        "2018\n",
        "Madhu 160000\n",
        "Kusum 110000\n",
        "Kinshuk 500000\n",
        "Ankit 340000\n",
        "Shruti 900000\n",
        "\n",
        "h) Check if Sales2 is empty or it contains data.\"\"\"\n",
        "data = {\n",
        "    '2018': {\n",
        "        'Madhu': 160000,\n",
        "        'Kusum': 110000,\n",
        "        'Kinshuk': 500000,\n",
        "        'Ankit': 340000,\n",
        "        'Shruti': 900000\n",
        "    }\n",
        "}\n",
        "print(data)\n",
        "df2=pd.DataFrame(\n",
        "    {'2018': {\n",
        "        'Madhu': 160000,\n",
        "        'Kusum': 110000,\n",
        "        'Kinshuk': 500000,\n",
        "        'Ankit': 340000,\n",
        "        'Shruti': 900000\n",
        "    }\n",
        "    }\n",
        ")\n",
        "print(df2)\n",
        "print(df2.empty)\n",
        "\n",
        "\n",
        "\n"
      ],
      "metadata": {
        "colab": {
          "base_uri": "https://localhost:8080/"
        },
        "id": "j-bzaydZwm-R",
        "outputId": "d41a5a96-6dfd-4a13-fc3e-112e7d144609"
      },
      "execution_count": null,
      "outputs": [
        {
          "output_type": "stream",
          "name": "stdout",
          "text": [
            "         2014     2015  2016     2017  2018\n",
            "madhu       1      1.0     1      1.0     1\n",
            "kusum       2     12.3     3     12.3     3\n",
            "john        3     45.5     7     45.5     7\n",
            "Ankit       4  78273.0    44  78273.0    44\n",
            "shruthi     5     56.0    33     56.0    33\n",
            "Index(['madhu', 'kusum', 'john', 'Ankit', 'shruthi'], dtype='object')\n",
            "Index([2014, 2015, 2016, 2017, 2018], dtype='int64')\n",
            "2014      int64\n",
            "2015    float64\n",
            "2016      int64\n",
            "2017    float64\n",
            "2018      int64\n",
            "dtype: object\n",
            "2\n",
            "(5, 5)\n",
            "25\n",
            "[[1.0000e+00 1.0000e+00 1.0000e+00 1.0000e+00 1.0000e+00]\n",
            " [2.0000e+00 1.2300e+01 3.0000e+00 1.2300e+01 3.0000e+00]\n",
            " [3.0000e+00 4.5500e+01 7.0000e+00 4.5500e+01 7.0000e+00]\n",
            " [4.0000e+00 7.8273e+04 4.4000e+01 7.8273e+04 4.4000e+01]\n",
            " [5.0000e+00 5.6000e+01 3.3000e+01 5.6000e+01 3.3000e+01]]\n",
            "         2014     2015  2016     2017  2018\n",
            "Ankit       4  78273.0    44  78273.0    44\n",
            "shruthi     5     56.0    33     56.0    33\n",
            "         2014     2015\n",
            "madhu       1      1.0\n",
            "kusum       2     12.3\n",
            "john        3     45.5\n",
            "Ankit       4  78273.0\n",
            "shruthi     5     56.0\n",
            "{'2018': {'Madhu': 160000, 'Kusum': 110000, 'Kinshuk': 500000, 'Ankit': 340000, 'Shruti': 900000}}\n",
            "           2018\n",
            "Madhu    160000\n",
            "Kusum    110000\n",
            "Kinshuk  500000\n",
            "Ankit    340000\n",
            "Shruti   900000\n",
            "False\n"
          ]
        }
      ]
    },
    {
      "cell_type": "code",
      "source": [
        "print(df.add(df2,fill_value=0))"
      ],
      "metadata": {
        "colab": {
          "base_uri": "https://localhost:8080/"
        },
        "id": "_itBmVwkpnjj",
        "outputId": "b11aade9-12cd-4c13-9fc3-087e1f111882"
      },
      "execution_count": null,
      "outputs": [
        {
          "output_type": "stream",
          "name": "stdout",
          "text": [
            "         2014     2015  2016     2017  2018      2018\n",
            "Ankit     4.0  78273.0  44.0  78273.0  44.0  340000.0\n",
            "Kinshuk   NaN      NaN   NaN      NaN   NaN  500000.0\n",
            "Kusum     NaN      NaN   NaN      NaN   NaN  110000.0\n",
            "Madhu     NaN      NaN   NaN      NaN   NaN  160000.0\n",
            "Shruti    NaN      NaN   NaN      NaN   NaN  900000.0\n",
            "john      3.0     45.5   7.0     45.5   7.0       NaN\n",
            "kusum     2.0     12.3   3.0     12.3   3.0       NaN\n",
            "madhu     1.0      1.0   1.0      1.0   1.0       NaN\n",
            "shruthi   5.0     56.0  33.0     56.0  33.0       NaN\n"
          ]
        }
      ]
    }
  ]
}