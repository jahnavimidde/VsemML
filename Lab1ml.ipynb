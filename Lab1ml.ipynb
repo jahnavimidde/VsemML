{
  "nbformat": 4,
  "nbformat_minor": 0,
  "metadata": {
    "colab": {
      "provenance": [],
      "authorship_tag": "ABX9TyPxwWTPai9NS/r5vTUU7Zcj",
      "include_colab_link": true
    },
    "kernelspec": {
      "name": "python3",
      "display_name": "Python 3"
    },
    "language_info": {
      "name": "python"
    }
  },
  "cells": [
    {
      "cell_type": "markdown",
      "metadata": {
        "id": "view-in-github",
        "colab_type": "text"
      },
      "source": [
        "<a href=\"https://colab.research.google.com/github/jahnavimidde/VsemML/blob/main/Lab1ml.ipynb\" target=\"_parent\"><img src=\"https://colab.research.google.com/assets/colab-badge.svg\" alt=\"Open In Colab\"/></a>"
      ]
    },
    {
      "cell_type": "code",
      "execution_count": null,
      "metadata": {
        "colab": {
          "base_uri": "https://localhost:8080/"
        },
        "id": "zhYssBY7fEI5",
        "outputId": "950d5aa1-c613-4031-debf-318f85c0834b"
      },
      "outputs": [
        {
          "output_type": "stream",
          "name": "stdout",
          "text": [
            "0    A,\n",
            "1     B\n",
            "2     C\n",
            "dtype: object\n"
          ]
        }
      ],
      "source": [
        "import pandas as pd\n",
        "s=pd.Series(['A,','B','C'])\n",
        "print(s)\n"
      ]
    },
    {
      "cell_type": "code",
      "source": [
        "#9\n",
        "import pandas as pd\n",
        "df = pd.DataFrame({\n",
        "    2014: [1, 2, 3, 4, 5],\n",
        "    2015: [1, 12.3, 45.5, 78273, 56],\n",
        "    2016: [1, 3, 7, 44, 33],\n",
        "    2017: [1, 12.3, 45.5, 78273, 56],\n",
        "    2018: [1, 3, 7, 44, 33]\n",
        "}, index=['Madhu', 'Kusum', 'john', 'Ankit', 'Shruthi'])\n",
        "print(df)\n",
        "\n",
        "#10\n",
        "print(df.index)\n",
        "print(df.columns)\n",
        "print(df.dtypes)\n",
        "\n",
        "print(df.ndim)\n",
        "print(df.shape)\n",
        "print(df.size)\n",
        "print(df.values)\n",
        "print(df.tail(2))\n",
        "print(df.iloc[:,:2])\n",
        "\n",
        "data = {\n",
        "    '2018': {\n",
        "        'Madhu': 160000,\n",
        "        'Kusum': 110000,\n",
        "        'Kinshuk': 500000,\n",
        "        'Ankit': 340000,\n",
        "        'Shruti': 900000\n",
        "    }\n",
        "}\n",
        "print(data)\n",
        "df2 = pd.DataFrame({\n",
        "    '2018': {\n",
        "        'Madhu': 160000,\n",
        "        'Kusum': 110000,\n",
        "        'Kinshuk': 500000,\n",
        "        'Ankit': 340000,\n",
        "        'Shruti': 900000\n",
        "    }\n",
        "})\n",
        "print(df2)\n",
        "print(df2.empty)\n",
        "\n",
        "#11\n",
        "df[2018] = df2['2018']\n",
        "print(df)\n",
        "print(df.T)\n",
        "print(df[2017])\n",
        "print(df.loc[df.index.intersection(['Madhu', 'Sumeet']), [2017, 2018]])\n",
        "print(df.index)\n",
        "print(df.columns)\n",
        "print(df.loc[['Shruthi'], [2016]])\n",
        "\n",
        "# Add Sumeet's sales data\n",
        "df.loc['Sumeet'] = [196.2, 37800, 52000, 78438, 38852]\n",
        "\n",
        "# Drop 3rd row\n",
        "df = df.drop(df.index[2])\n",
        "print(df)\n",
        "\n",
        "\n",
        "\n",
        "print(df2.drop(df.index[2]))\n",
        "\n"
      ],
      "metadata": {
        "colab": {
          "base_uri": "https://localhost:8080/"
        },
        "id": "4DSwa--VbC4w",
        "outputId": "e262a5b6-a616-4603-9a70-c0b39d124137"
      },
      "execution_count": null,
      "outputs": [
        {
          "output_type": "stream",
          "name": "stdout",
          "text": [
            "         2014     2015  2016     2017  2018\n",
            "Madhu       1      1.0     1      1.0     1\n",
            "Kusum       2     12.3     3     12.3     3\n",
            "john        3     45.5     7     45.5     7\n",
            "Ankit       4  78273.0    44  78273.0    44\n",
            "Shruthi     5     56.0    33     56.0    33\n",
            "Index(['Madhu', 'Kusum', 'john', 'Ankit', 'Shruthi'], dtype='object')\n",
            "Index([2014, 2015, 2016, 2017, 2018], dtype='int64')\n",
            "2014      int64\n",
            "2015    float64\n",
            "2016      int64\n",
            "2017    float64\n",
            "2018      int64\n",
            "dtype: object\n",
            "2\n",
            "(5, 5)\n",
            "25\n",
            "[[1.0000e+00 1.0000e+00 1.0000e+00 1.0000e+00 1.0000e+00]\n",
            " [2.0000e+00 1.2300e+01 3.0000e+00 1.2300e+01 3.0000e+00]\n",
            " [3.0000e+00 4.5500e+01 7.0000e+00 4.5500e+01 7.0000e+00]\n",
            " [4.0000e+00 7.8273e+04 4.4000e+01 7.8273e+04 4.4000e+01]\n",
            " [5.0000e+00 5.6000e+01 3.3000e+01 5.6000e+01 3.3000e+01]]\n",
            "         2014     2015  2016     2017  2018\n",
            "Ankit       4  78273.0    44  78273.0    44\n",
            "Shruthi     5     56.0    33     56.0    33\n",
            "         2014     2015\n",
            "Madhu       1      1.0\n",
            "Kusum       2     12.3\n",
            "john        3     45.5\n",
            "Ankit       4  78273.0\n",
            "Shruthi     5     56.0\n",
            "{'2018': {'Madhu': 160000, 'Kusum': 110000, 'Kinshuk': 500000, 'Ankit': 340000, 'Shruti': 900000}}\n",
            "           2018\n",
            "Madhu    160000\n",
            "Kusum    110000\n",
            "Kinshuk  500000\n",
            "Ankit    340000\n",
            "Shruti   900000\n",
            "False\n",
            "         2014     2015  2016     2017      2018\n",
            "Madhu       1      1.0     1      1.0  160000.0\n",
            "Kusum       2     12.3     3     12.3  110000.0\n",
            "john        3     45.5     7     45.5       NaN\n",
            "Ankit       4  78273.0    44  78273.0  340000.0\n",
            "Shruthi     5     56.0    33     56.0       NaN\n",
            "         Madhu     Kusum  john     Ankit  Shruthi\n",
            "2014       1.0       2.0   3.0       4.0      5.0\n",
            "2015       1.0      12.3  45.5   78273.0     56.0\n",
            "2016       1.0       3.0   7.0      44.0     33.0\n",
            "2017       1.0      12.3  45.5   78273.0     56.0\n",
            "2018  160000.0  110000.0   NaN  340000.0      NaN\n",
            "Madhu          1.0\n",
            "Kusum         12.3\n",
            "john          45.5\n",
            "Ankit      78273.0\n",
            "Shruthi       56.0\n",
            "Name: 2017, dtype: float64\n",
            "       2017      2018\n",
            "Madhu   1.0  160000.0\n",
            "Index(['Madhu', 'Kusum', 'john', 'Ankit', 'Shruthi'], dtype='object')\n",
            "Index([2014, 2015, 2016, 2017, 2018], dtype='int64')\n",
            "         2016\n",
            "Shruthi    33\n",
            "          2014     2015     2016     2017      2018\n",
            "Madhu      1.0      1.0      1.0      1.0  160000.0\n",
            "Kusum      2.0     12.3      3.0     12.3  110000.0\n",
            "Ankit      4.0  78273.0     44.0  78273.0  340000.0\n",
            "Shruthi    5.0     56.0     33.0     56.0       NaN\n",
            "Sumeet   196.2  37800.0  52000.0  78438.0   38852.0\n",
            "           2018\n",
            "Madhu    160000\n",
            "Kusum    110000\n",
            "Kinshuk  500000\n",
            "Shruti   900000\n"
          ]
        }
      ]
    },
    {
      "cell_type": "code",
      "source": [
        "print(df2.drop('Kinshuk'))\n",
        "#Change the name of the salesperson Ankit to\n",
        "#Vivaan and Madhu to Shailesh.\n",
        "#rename uses index and columns\n",
        "print(df.rename(index={'Madhu':'Shailesh','Ankit':'Vivaan'},inplace=True))\n",
        "df.loc['Shailesh',2018]=10000\n",
        "print(df)\n",
        "df = df.drop(['Shailesh', 'shailesh'], errors='ignore')\n",
        "\n",
        "\n",
        "\n",
        "\n"
      ],
      "metadata": {
        "colab": {
          "base_uri": "https://localhost:8080/"
        },
        "id": "zhfFb7F3bTO5",
        "outputId": "ba2fca59-cdde-4431-dcab-7a7142148e67"
      },
      "execution_count": null,
      "outputs": [
        {
          "output_type": "stream",
          "name": "stdout",
          "text": [
            "          2018\n",
            "Madhu   160000\n",
            "Kusum   110000\n",
            "Ankit   340000\n",
            "Shruti  900000\n",
            "None\n",
            "           2014     2015     2016     2017      2018\n",
            "Kusum       2.0     12.3      3.0     12.3  110000.0\n",
            "Vivaan      4.0  78273.0     44.0  78273.0  340000.0\n",
            "Shruthi     5.0     56.0     33.0     56.0       NaN\n",
            "Sumeet    196.2  37800.0  52000.0  78438.0   38852.0\n",
            "Shailesh    NaN      NaN      NaN      NaN   10000.0\n"
          ]
        }
      ]
    },
    {
      "cell_type": "code",
      "source": [
        "\n",
        "import pandas as pd\n",
        "df.to_csv('SalesFigures.csv',index=False,header=False)\n",
        "reading=pd.read_csv('SalesFigures.csv',header=None)# pandas automatically understands the first row as header\n",
        "reading.index=df.index\n",
        "reading.columns=df.columns\n",
        "print(reading)"
      ],
      "metadata": {
        "colab": {
          "base_uri": "https://localhost:8080/"
        },
        "id": "j5R8arSkh5ar",
        "outputId": "a7cd2dcc-9c08-412a-885d-8a15cb901308"
      },
      "execution_count": null,
      "outputs": [
        {
          "output_type": "stream",
          "name": "stdout",
          "text": [
            "          2014     2015     2016     2017      2018\n",
            "Kusum      2.0     12.3      3.0     12.3  110000.0\n",
            "Vivaan     4.0  78273.0     44.0  78273.0  340000.0\n",
            "Shruthi    5.0     56.0     33.0     56.0       NaN\n",
            "Sumeet   196.2  37800.0  52000.0  78438.0   38852.0\n"
          ]
        }
      ]
    },
    {
      "cell_type": "code",
      "source": [
        "import pandas as pd\n",
        "\n",
        "data = {\n",
        "    'Item': ['TV', 'TV', 'TV', 'AC'],\n",
        "    'Company': ['LG', 'VIDEOCON', 'LG', 'SONY'],\n",
        "    'Rupees': [12000, 10000, 15000, 14000],\n",
        "    'USD': [700, 650, 800, 750]\n",
        "}\n",
        "\n",
        "df = pd.DataFrame(data)\n",
        "\n",
        "\n",
        "print(df)\n",
        "new_rows = pd.DataFrame([\n",
        "    {\"Item\": \"TV\", \"Company\": \"SAMSUNG\", \"Rupees\": 13000, \"USD\": 720},\n",
        "    {\"Item\": \"AC\", \"Company\": \"SONY\", \"Rupees\": 16000, \"USD\": 790}\n",
        "])\n",
        "df = pd.concat([df, new_rows], ignore_index=True)\n",
        "print(df)\n",
        "#max price lg tv\n",
        "print(df[(df['Item']=='TV')&(df['Company']=='LG')]['Rupees'].max())\n",
        "print(sum(df['Rupees']))\n",
        "print(df[(df['Company']=='SONY')]['USD'].median())\n",
        "\n"
      ],
      "metadata": {
        "colab": {
          "base_uri": "https://localhost:8080/"
        },
        "id": "exZTEOexj7OK",
        "outputId": "d9301bcc-97e1-4483-a3af-5a493c9e81d9"
      },
      "execution_count": null,
      "outputs": [
        {
          "output_type": "stream",
          "name": "stdout",
          "text": [
            "  Item   Company  Rupees  USD\n",
            "0   TV        LG   12000  700\n",
            "1   TV  VIDEOCON   10000  650\n",
            "2   TV        LG   15000  800\n",
            "3   AC      SONY   14000  750\n",
            "  Item   Company  Rupees  USD\n",
            "0   TV        LG   12000  700\n",
            "1   TV  VIDEOCON   10000  650\n",
            "2   TV        LG   15000  800\n",
            "3   AC      SONY   14000  750\n",
            "4   TV   SAMSUNG   13000  720\n",
            "5   AC      SONY   16000  790\n",
            "15000\n",
            "80000\n",
            "770.0\n"
          ]
        }
      ]
    },
    {
      "cell_type": "code",
      "source": [
        "import pandas as pd\n",
        "\n",
        "\n",
        "data = {\n",
        "    'Name': ['Aparna', 'Pankaj', 'Ram', 'Ramesh', 'Naveen', 'Krrishnav', 'Bhawna'],\n",
        "    'Degree': ['MBA', 'BCA', 'M.Tech', 'MBA', None, 'BCA', 'MBA'],\n",
        "    'Score': [90.0, None, 80.0, 98.0, 97.0, 78.0, 89.0]\n",
        "}\n",
        "\n",
        "df3 = pd.DataFrame(data)\n",
        "print(df3)\n",
        "print(df3.groupby(\"Degree\")[\"Score\"].max())\n",
        "df['Score'].fillna(76)\n",
        "print(df)\n",
        "#df.set_index('Name')\n",
        "#print(df)\n",
        "# Group by Name and Degree, then calculate average Score\n",
        "average_marks = df.groupby([df.index, 'Degree'])['Score'].mean()\n",
        "print(average_marks)\n",
        "print(df[df['Degree']=='MBA'].count())\n",
        "print(len(df[df['Degree']=='MBA']))\n",
        "print(df[df['Degree'] == 'BCA']['Score'].mode())\n",
        "\n",
        "\n",
        "\n",
        "\n",
        "\n",
        "\n"
      ],
      "metadata": {
        "colab": {
          "base_uri": "https://localhost:8080/"
        },
        "id": "mdSOtQB0pnL-",
        "outputId": "d55a042a-b23a-4aab-8616-1bfbbe38e583"
      },
      "execution_count": null,
      "outputs": [
        {
          "output_type": "stream",
          "name": "stdout",
          "text": [
            "        Name  Degree  Score\n",
            "0     Aparna     MBA   90.0\n",
            "1     Pankaj     BCA    NaN\n",
            "2        Ram  M.Tech   80.0\n",
            "3     Ramesh     MBA   98.0\n",
            "4     Naveen    None   97.0\n",
            "5  Krrishnav     BCA   78.0\n",
            "6     Bhawna     MBA   89.0\n",
            "Degree\n",
            "BCA       78.0\n",
            "M.Tech    80.0\n",
            "MBA       98.0\n",
            "Name: Score, dtype: float64\n",
            "           Degree  Score\n",
            "Name                    \n",
            "Aparna        MBA   90.0\n",
            "Pankaj        BCA   76.0\n",
            "Ram        M.Tech   80.0\n",
            "Ramesh        MBA   98.0\n",
            "Naveen       None   97.0\n",
            "Krrishnav     BCA   78.0\n",
            "Bhawna        MBA   89.0\n",
            "Name       Degree\n",
            "Aparna     MBA       90.0\n",
            "Bhawna     MBA       89.0\n",
            "Krrishnav  BCA       78.0\n",
            "Pankaj     BCA       76.0\n",
            "Ram        M.Tech    80.0\n",
            "Ramesh     MBA       98.0\n",
            "Name: Score, dtype: float64\n",
            "Degree    3\n",
            "Score     3\n",
            "dtype: int64\n",
            "3\n",
            "0    76.0\n",
            "1    78.0\n",
            "Name: Score, dtype: float64\n"
          ]
        }
      ]
    },
    {
      "cell_type": "code",
      "source": [
        "import numpy as np\n",
        "\n",
        "\n",
        "column_names = ['mpg', 'cylinders', 'displacement', 'horsepower',\n",
        "                'weight', 'acceleration', 'model_year', 'origin', 'car_name']\n",
        "\n",
        "# Load dataset\n",
        "url = \"http://archive.ics.uci.edu/ml/machine-learning-databases/auto-mpg/auto-mpg.data\"\n",
        "df=pd.read_csv(url,delim_whitespace=True,names=column_names,na_values=\"?\")\n",
        "print(df.describe(include=\"all\"))\n",
        "\n",
        "print(df.head(10))\n",
        "print(df.ffill())\n",
        "print(df.isnull().sum())\n",
        "print(df.dropna())\n",
        "\n"
      ],
      "metadata": {
        "id": "eghRvxPvpm_y",
        "colab": {
          "base_uri": "https://localhost:8080/"
        },
        "outputId": "8392b8f2-e99f-407a-8cf9-f581c8e8318b"
      },
      "execution_count": null,
      "outputs": [
        {
          "output_type": "stream",
          "name": "stderr",
          "text": [
            "/tmp/ipython-input-10-3439570444.py:9: FutureWarning: The 'delim_whitespace' keyword in pd.read_csv is deprecated and will be removed in a future version. Use ``sep='\\s+'`` instead\n",
            "  df=pd.read_csv(url,delim_whitespace=True,names=column_names,na_values=\"?\")\n"
          ]
        },
        {
          "output_type": "stream",
          "name": "stdout",
          "text": [
            "               mpg   cylinders  displacement  horsepower       weight  \\\n",
            "count   398.000000  398.000000    398.000000  392.000000   398.000000   \n",
            "unique         NaN         NaN           NaN         NaN          NaN   \n",
            "top            NaN         NaN           NaN         NaN          NaN   \n",
            "freq           NaN         NaN           NaN         NaN          NaN   \n",
            "mean     23.514573    5.454774    193.425879  104.469388  2970.424623   \n",
            "std       7.815984    1.701004    104.269838   38.491160   846.841774   \n",
            "min       9.000000    3.000000     68.000000   46.000000  1613.000000   \n",
            "25%      17.500000    4.000000    104.250000   75.000000  2223.750000   \n",
            "50%      23.000000    4.000000    148.500000   93.500000  2803.500000   \n",
            "75%      29.000000    8.000000    262.000000  126.000000  3608.000000   \n",
            "max      46.600000    8.000000    455.000000  230.000000  5140.000000   \n",
            "\n",
            "        acceleration  model_year      origin    car_name  \n",
            "count     398.000000  398.000000  398.000000         398  \n",
            "unique           NaN         NaN         NaN         305  \n",
            "top              NaN         NaN         NaN  ford pinto  \n",
            "freq             NaN         NaN         NaN           6  \n",
            "mean       15.568090   76.010050    1.572864         NaN  \n",
            "std         2.757689    3.697627    0.802055         NaN  \n",
            "min         8.000000   70.000000    1.000000         NaN  \n",
            "25%        13.825000   73.000000    1.000000         NaN  \n",
            "50%        15.500000   76.000000    1.000000         NaN  \n",
            "75%        17.175000   79.000000    2.000000         NaN  \n",
            "max        24.800000   82.000000    3.000000         NaN  \n",
            "<class 'pandas.core.frame.DataFrame'>\n",
            "RangeIndex: 398 entries, 0 to 397\n",
            "Data columns (total 9 columns):\n",
            " #   Column        Non-Null Count  Dtype  \n",
            "---  ------        --------------  -----  \n",
            " 0   mpg           398 non-null    float64\n",
            " 1   cylinders     398 non-null    int64  \n",
            " 2   displacement  398 non-null    float64\n",
            " 3   horsepower    392 non-null    float64\n",
            " 4   weight        398 non-null    float64\n",
            " 5   acceleration  398 non-null    float64\n",
            " 6   model_year    398 non-null    int64  \n",
            " 7   origin        398 non-null    int64  \n",
            " 8   car_name      398 non-null    object \n",
            "dtypes: float64(5), int64(3), object(1)\n",
            "memory usage: 28.1+ KB\n",
            "df: None\n",
            "    mpg  cylinders  displacement  horsepower  weight  acceleration  \\\n",
            "0  18.0          8         307.0       130.0  3504.0          12.0   \n",
            "1  15.0          8         350.0       165.0  3693.0          11.5   \n",
            "2  18.0          8         318.0       150.0  3436.0          11.0   \n",
            "3  16.0          8         304.0       150.0  3433.0          12.0   \n",
            "4  17.0          8         302.0       140.0  3449.0          10.5   \n",
            "5  15.0          8         429.0       198.0  4341.0          10.0   \n",
            "6  14.0          8         454.0       220.0  4354.0           9.0   \n",
            "7  14.0          8         440.0       215.0  4312.0           8.5   \n",
            "8  14.0          8         455.0       225.0  4425.0          10.0   \n",
            "9  15.0          8         390.0       190.0  3850.0           8.5   \n",
            "\n",
            "   model_year  origin                   car_name  \n",
            "0          70       1  chevrolet chevelle malibu  \n",
            "1          70       1          buick skylark 320  \n",
            "2          70       1         plymouth satellite  \n",
            "3          70       1              amc rebel sst  \n",
            "4          70       1                ford torino  \n",
            "5          70       1           ford galaxie 500  \n",
            "6          70       1           chevrolet impala  \n",
            "7          70       1          plymouth fury iii  \n",
            "8          70       1           pontiac catalina  \n",
            "9          70       1         amc ambassador dpl  \n",
            "      mpg  cylinders  displacement  horsepower  weight  acceleration  \\\n",
            "0    18.0          8         307.0       130.0  3504.0          12.0   \n",
            "1    15.0          8         350.0       165.0  3693.0          11.5   \n",
            "2    18.0          8         318.0       150.0  3436.0          11.0   \n",
            "3    16.0          8         304.0       150.0  3433.0          12.0   \n",
            "4    17.0          8         302.0       140.0  3449.0          10.5   \n",
            "..    ...        ...           ...         ...     ...           ...   \n",
            "393  27.0          4         140.0        86.0  2790.0          15.6   \n",
            "394  44.0          4          97.0        52.0  2130.0          24.6   \n",
            "395  32.0          4         135.0        84.0  2295.0          11.6   \n",
            "396  28.0          4         120.0        79.0  2625.0          18.6   \n",
            "397  31.0          4         119.0        82.0  2720.0          19.4   \n",
            "\n",
            "     model_year  origin                   car_name  \n",
            "0            70       1  chevrolet chevelle malibu  \n",
            "1            70       1          buick skylark 320  \n",
            "2            70       1         plymouth satellite  \n",
            "3            70       1              amc rebel sst  \n",
            "4            70       1                ford torino  \n",
            "..          ...     ...                        ...  \n",
            "393          82       1            ford mustang gl  \n",
            "394          82       2                  vw pickup  \n",
            "395          82       1              dodge rampage  \n",
            "396          82       1                ford ranger  \n",
            "397          82       1                 chevy s-10  \n",
            "\n",
            "[398 rows x 9 columns]\n",
            "mpg             0\n",
            "cylinders       0\n",
            "displacement    0\n",
            "horsepower      6\n",
            "weight          0\n",
            "acceleration    0\n",
            "model_year      0\n",
            "origin          0\n",
            "car_name        0\n",
            "dtype: int64\n",
            "      mpg  cylinders  displacement  horsepower  weight  acceleration  \\\n",
            "0    18.0          8         307.0       130.0  3504.0          12.0   \n",
            "1    15.0          8         350.0       165.0  3693.0          11.5   \n",
            "2    18.0          8         318.0       150.0  3436.0          11.0   \n",
            "3    16.0          8         304.0       150.0  3433.0          12.0   \n",
            "4    17.0          8         302.0       140.0  3449.0          10.5   \n",
            "..    ...        ...           ...         ...     ...           ...   \n",
            "393  27.0          4         140.0        86.0  2790.0          15.6   \n",
            "394  44.0          4          97.0        52.0  2130.0          24.6   \n",
            "395  32.0          4         135.0        84.0  2295.0          11.6   \n",
            "396  28.0          4         120.0        79.0  2625.0          18.6   \n",
            "397  31.0          4         119.0        82.0  2720.0          19.4   \n",
            "\n",
            "     model_year  origin                   car_name  \n",
            "0            70       1  chevrolet chevelle malibu  \n",
            "1            70       1          buick skylark 320  \n",
            "2            70       1         plymouth satellite  \n",
            "3            70       1              amc rebel sst  \n",
            "4            70       1                ford torino  \n",
            "..          ...     ...                        ...  \n",
            "393          82       1            ford mustang gl  \n",
            "394          82       2                  vw pickup  \n",
            "395          82       1              dodge rampage  \n",
            "396          82       1                ford ranger  \n",
            "397          82       1                 chevy s-10  \n",
            "\n",
            "[392 rows x 9 columns]\n"
          ]
        }
      ]
    },
    {
      "cell_type": "code",
      "source": [
        "max_mpg=(df['mpg'].max())\n",
        "b=df[df['mpg']==max_mpg]\n",
        "print(b[:])\n",
        "print(df.groupby('cylinders')['displacement'].mean())\n",
        "print(df['cylinders'].mean())\n",
        "print(df[df['weight']>= df['weight'].mean()]['car_name'].count())\n"
      ],
      "metadata": {
        "colab": {
          "base_uri": "https://localhost:8080/"
        },
        "id": "roqY7xgwF_0M",
        "outputId": "e751293e-2773-4193-82db-45c2d86a40c5"
      },
      "execution_count": null,
      "outputs": [
        {
          "output_type": "stream",
          "name": "stdout",
          "text": [
            "      mpg  cylinders  displacement  horsepower  weight  acceleration  \\\n",
            "322  46.6          4          86.0        65.0  2110.0          17.9   \n",
            "\n",
            "     model_year  origin   car_name  \n",
            "322          80       3  mazda glc  \n",
            "cylinders\n",
            "3     72.500000\n",
            "4    109.796569\n",
            "5    145.000000\n",
            "6    218.142857\n",
            "8    345.009709\n",
            "Name: displacement, dtype: float64\n",
            "5.454773869346734\n",
            "171\n"
          ]
        }
      ]
    }
  ]
}